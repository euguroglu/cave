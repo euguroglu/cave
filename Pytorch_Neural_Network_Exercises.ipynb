{
  "nbformat": 4,
  "nbformat_minor": 0,
  "metadata": {
    "kernelspec": {
      "display_name": "Python 3",
      "language": "python",
      "name": "python3"
    },
    "language_info": {
      "codemirror_mode": {
        "name": "ipython",
        "version": 3
      },
      "file_extension": ".py",
      "mimetype": "text/x-python",
      "name": "python",
      "nbconvert_exporter": "python",
      "pygments_lexer": "ipython3",
      "version": "3.7.3"
    },
    "colab": {
      "name": "Pytorch-Neural-Network-Exercises.ipynb",
      "provenance": [],
      "include_colab_link": true
    }
  },
  "cells": [
    {
      "cell_type": "markdown",
      "metadata": {
        "id": "view-in-github",
        "colab_type": "text"
      },
      "source": [
        "<a href=\"https://colab.research.google.com/github/euguroglu/cave/blob/master/Pytorch_Neural_Network_Exercises.ipynb\" target=\"_parent\"><img src=\"https://colab.research.google.com/assets/colab-badge.svg\" alt=\"Open In Colab\"/></a>"
      ]
    },
    {
      "cell_type": "markdown",
      "metadata": {
        "collapsed": true,
        "id": "iCJOLA7WX865",
        "colab_type": "text"
      },
      "source": [
        "# Neural Network Exercises\n",
        "For these exercises we'll perform a binary classification on the Census Income dataset available from the <a href = 'http://archive.ics.uci.edu/ml/datasets/Adult'>UC Irvine Machine Learning Repository</a><br>\n",
        "The goal is to determine if an individual earns more than $50K based on a set of continuous and categorical variables.\n",
        "\n",
        "<div class=\"alert alert-danger\" style=\"margin: 10px\"><strong>IMPORTANT NOTE!</strong> Make sure you don't run the cells directly above the example output shown, <br>otherwise you will end up writing over the example output!</div>"
      ]
    },
    {
      "cell_type": "markdown",
      "metadata": {
        "id": "K6vDVoA9X866",
        "colab_type": "text"
      },
      "source": [
        "## Census Income Dataset\n",
        "For this exercises we're using the Census Income dataset available from the <a href='http://archive.ics.uci.edu/ml/datasets/Adult'>UC Irvine Machine Learning Repository</a>.\n",
        "\n",
        "The full dataset has 48,842 entries. For this exercise we have reduced the number of records, fields and field entries, and have removed entries with null values. The file <strong>income.csv</strong> has\t30,000 entries\n",
        "\n",
        "Each entry contains the following information about an individual:\n",
        "* <strong>age</strong>: the age of an individual as an integer from 18 to 90 (continuous)\n",
        "* <strong>sex</strong>: Male or Female (categorical)\n",
        "* <strong>education</strong>: represents the highest level of education achieved by an individual (categorical)\n",
        "* <strong>education_num</strong>: represents education as an integer from 3 to 16 (categorical)\n",
        "<div><table style=\"display: inline-block\">\n",
        "<tr><td>3</td><td>5th-6th</td><td>8</td><td>12th</td><td>13</td><td>Bachelors</td></tr>\n",
        "<tr><td>4</td><td>7th-8th</td><td>9</td><td>HS-grad</td><td>14</td><td>Masters</td></tr>\n",
        "<tr><td>5</td><td>9th</td><td>10</td><td>Some-college</td><td>15</td><td>Prof-school</td></tr>\n",
        "<tr><td>6</td><td>10th</td><td>11</td><td>Assoc-voc</td><td>16</td><td>Doctorate</td></tr>\n",
        "<tr><td>7</td><td>11th</td><td>12</td><td>Assoc-acdm</td></tr>\n",
        "</table></div>\n",
        "* <strong>marital-status</strong>: marital status of an individual (categorical)\n",
        "<div><table style=\"display: inline-block\">\n",
        "<tr><td>Married</td><td>Divorced</td><td>Married-spouse-absent</td></tr>\n",
        "<tr><td>Separated</td><td>Widowed</td><td>Never-married</td></tr>\n",
        "</table></div>\n",
        "* <strong>workclass</strong>: a general term to represent the employment status of an individual (categorical)\n",
        "<div><table style=\"display: inline-block\">\n",
        "<tr><td>Local-gov</td><td>Private</td></tr>\n",
        "<tr><td>State-gov</td><td>Self-emp</td></tr>\n",
        "<tr><td>Federal-gov</td></tr>\n",
        "</table></div>\n",
        "* <strong>occupation</strong>: the general type of occupation of an individual (categorical)\n",
        "<div><table style=\"display: inline-block\">\n",
        "<tr><td>Adm-clerical</td><td>Handlers-cleaners</td><td>Protective-serv</td></tr>\n",
        "<tr><td>Craft-repair</td><td>Machine-op-inspct</td><td>Sales</td></tr>\n",
        "<tr><td>Exec-managerial</td><td>Other-service</td><td>Tech-support</td></tr>\n",
        "<tr><td>Farming-fishing</td><td>Prof-specialty</td><td>Transport-moving</td></tr>\n",
        "</table></div>\n",
        "* <strong>hours-per-week</strong>: the hours an individual has reported to work per week as an integer from 20 to 90 (continuous)\n",
        "* <strong>income</strong>: whether or not an individual makes more than \\\\$50,000 annually (label)\n",
        "* <strong>label</strong>: income represented as an integer (0: <=\\\\$50K, 1: >\\\\$50K) (optional label)"
      ]
    },
    {
      "cell_type": "markdown",
      "metadata": {
        "id": "3KdQbV6MX866",
        "colab_type": "text"
      },
      "source": [
        "## Perform standard imports\n",
        "Run the cell below to load the libraries needed for this exercise and the Census Income dataset."
      ]
    },
    {
      "cell_type": "code",
      "metadata": {
        "id": "RQywr0T_X867",
        "colab_type": "code",
        "colab": {}
      },
      "source": [
        "import torch\n",
        "import torch.nn as nn\n",
        "\n",
        "import numpy as np\n",
        "import pandas as pd\n",
        "import matplotlib.pyplot as plt\n",
        "from sklearn.utils import shuffle\n",
        "%matplotlib inline\n",
        "\n",
        "df = pd.read_csv('income.csv')"
      ],
      "execution_count": 1,
      "outputs": []
    },
    {
      "cell_type": "code",
      "metadata": {
        "scrolled": true,
        "id": "qQ1ms-CdX86_",
        "colab_type": "code",
        "colab": {
          "base_uri": "https://localhost:8080/",
          "height": 289
        },
        "outputId": "ea0cd47e-e458-409f-a9e2-b5cc4d97200d"
      },
      "source": [
        "print(len(df))\n",
        "df.head()"
      ],
      "execution_count": 2,
      "outputs": [
        {
          "output_type": "stream",
          "text": [
            "30000\n"
          ],
          "name": "stdout"
        },
        {
          "output_type": "execute_result",
          "data": {
            "text/html": [
              "<div>\n",
              "<style scoped>\n",
              "    .dataframe tbody tr th:only-of-type {\n",
              "        vertical-align: middle;\n",
              "    }\n",
              "\n",
              "    .dataframe tbody tr th {\n",
              "        vertical-align: top;\n",
              "    }\n",
              "\n",
              "    .dataframe thead th {\n",
              "        text-align: right;\n",
              "    }\n",
              "</style>\n",
              "<table border=\"1\" class=\"dataframe\">\n",
              "  <thead>\n",
              "    <tr style=\"text-align: right;\">\n",
              "      <th></th>\n",
              "      <th>age</th>\n",
              "      <th>sex</th>\n",
              "      <th>education</th>\n",
              "      <th>education-num</th>\n",
              "      <th>marital-status</th>\n",
              "      <th>workclass</th>\n",
              "      <th>occupation</th>\n",
              "      <th>hours-per-week</th>\n",
              "      <th>income</th>\n",
              "      <th>label</th>\n",
              "    </tr>\n",
              "  </thead>\n",
              "  <tbody>\n",
              "    <tr>\n",
              "      <th>0</th>\n",
              "      <td>27</td>\n",
              "      <td>Male</td>\n",
              "      <td>HS-grad</td>\n",
              "      <td>9</td>\n",
              "      <td>Never-married</td>\n",
              "      <td>Private</td>\n",
              "      <td>Craft-repair</td>\n",
              "      <td>40</td>\n",
              "      <td>&lt;=50K</td>\n",
              "      <td>0</td>\n",
              "    </tr>\n",
              "    <tr>\n",
              "      <th>1</th>\n",
              "      <td>47</td>\n",
              "      <td>Male</td>\n",
              "      <td>Masters</td>\n",
              "      <td>14</td>\n",
              "      <td>Married</td>\n",
              "      <td>Local-gov</td>\n",
              "      <td>Exec-managerial</td>\n",
              "      <td>50</td>\n",
              "      <td>&gt;50K</td>\n",
              "      <td>1</td>\n",
              "    </tr>\n",
              "    <tr>\n",
              "      <th>2</th>\n",
              "      <td>59</td>\n",
              "      <td>Male</td>\n",
              "      <td>HS-grad</td>\n",
              "      <td>9</td>\n",
              "      <td>Divorced</td>\n",
              "      <td>Self-emp</td>\n",
              "      <td>Prof-specialty</td>\n",
              "      <td>20</td>\n",
              "      <td>&lt;=50K</td>\n",
              "      <td>0</td>\n",
              "    </tr>\n",
              "    <tr>\n",
              "      <th>3</th>\n",
              "      <td>38</td>\n",
              "      <td>Female</td>\n",
              "      <td>Prof-school</td>\n",
              "      <td>15</td>\n",
              "      <td>Never-married</td>\n",
              "      <td>Federal-gov</td>\n",
              "      <td>Prof-specialty</td>\n",
              "      <td>57</td>\n",
              "      <td>&gt;50K</td>\n",
              "      <td>1</td>\n",
              "    </tr>\n",
              "    <tr>\n",
              "      <th>4</th>\n",
              "      <td>64</td>\n",
              "      <td>Female</td>\n",
              "      <td>11th</td>\n",
              "      <td>7</td>\n",
              "      <td>Widowed</td>\n",
              "      <td>Private</td>\n",
              "      <td>Farming-fishing</td>\n",
              "      <td>40</td>\n",
              "      <td>&lt;=50K</td>\n",
              "      <td>0</td>\n",
              "    </tr>\n",
              "  </tbody>\n",
              "</table>\n",
              "</div>"
            ],
            "text/plain": [
              "   age     sex    education  ...  hours-per-week income label\n",
              "0   27    Male      HS-grad  ...              40  <=50K     0\n",
              "1   47    Male      Masters  ...              50   >50K     1\n",
              "2   59    Male      HS-grad  ...              20  <=50K     0\n",
              "3   38  Female  Prof-school  ...              57   >50K     1\n",
              "4   64  Female         11th  ...              40  <=50K     0\n",
              "\n",
              "[5 rows x 10 columns]"
            ]
          },
          "metadata": {
            "tags": []
          },
          "execution_count": 2
        }
      ]
    },
    {
      "cell_type": "code",
      "metadata": {
        "id": "ZAEX9yzQX87C",
        "colab_type": "code",
        "colab": {
          "base_uri": "https://localhost:8080/",
          "height": 68
        },
        "outputId": "1b269345-0938-41a2-8bd6-6d3dc7493374"
      },
      "source": [
        "df['label'].value_counts()"
      ],
      "execution_count": 3,
      "outputs": [
        {
          "output_type": "execute_result",
          "data": {
            "text/plain": [
              "0    21700\n",
              "1     8300\n",
              "Name: label, dtype: int64"
            ]
          },
          "metadata": {
            "tags": []
          },
          "execution_count": 3
        }
      ]
    },
    {
      "cell_type": "markdown",
      "metadata": {
        "id": "opLt0J2SX87E",
        "colab_type": "text"
      },
      "source": [
        "### 1. Separate continuous, categorical and label column names\n",
        "You should find that there are 5 categorical columns, 2 continuous columns and 1 label.<br>\n",
        "In the case of <em>education</em> and <em>education-num</em> it doesn't matter which column you use. For the label column, be sure to use <em>label</em> and not <em>income</em>.<br>\n",
        "Assign the variable names \"cat_cols\", \"cont_cols\" and \"y_col\" to the lists of names."
      ]
    },
    {
      "cell_type": "code",
      "metadata": {
        "id": "QqAzS_HZX87F",
        "colab_type": "code",
        "colab": {
          "base_uri": "https://localhost:8080/",
          "height": 68
        },
        "outputId": "f0e6a446-7b91-4543-cfdd-791707871ac3"
      },
      "source": [
        "df.columns"
      ],
      "execution_count": 4,
      "outputs": [
        {
          "output_type": "execute_result",
          "data": {
            "text/plain": [
              "Index(['age', 'sex', 'education', 'education-num', 'marital-status',\n",
              "       'workclass', 'occupation', 'hours-per-week', 'income', 'label'],\n",
              "      dtype='object')"
            ]
          },
          "metadata": {
            "tags": []
          },
          "execution_count": 4
        }
      ]
    },
    {
      "cell_type": "code",
      "metadata": {
        "id": "BaEZdS5nX87I",
        "colab_type": "code",
        "colab": {
          "base_uri": "https://localhost:8080/",
          "height": 68
        },
        "outputId": "14b20f49-306e-42bd-e335-c7b83f447633"
      },
      "source": [
        "# CODE HERE\n",
        "cat_cols = ['sex','education','marital-status','workclass','occupation']\n",
        "cont_cols = ['age','hours-per-week']\n",
        "y_col = ['label']\n",
        "\n",
        "# RUN THIS CODE TO COMPARE RESULTS:\n",
        "print(f'cat_cols  has {len(cat_cols)} columns')\n",
        "print(f'cont_cols has {len(cont_cols)} columns')\n",
        "print(f'y_col     has {len(y_col)} column')"
      ],
      "execution_count": 5,
      "outputs": [
        {
          "output_type": "stream",
          "text": [
            "cat_cols  has 5 columns\n",
            "cont_cols has 2 columns\n",
            "y_col     has 1 column\n"
          ],
          "name": "stdout"
        }
      ]
    },
    {
      "cell_type": "code",
      "metadata": {
        "id": "YkEfHUJ2X87K",
        "colab_type": "code",
        "colab": {},
        "outputId": "d035d1d9-b9b0-4202-ce21-509d096891f7"
      },
      "source": [
        "# DON'T WRITE HERE"
      ],
      "execution_count": null,
      "outputs": [
        {
          "output_type": "stream",
          "text": [
            "cat_cols  has 5 columns\n",
            "cont_cols has 2 columns\n",
            "y_col     has 1 column\n"
          ],
          "name": "stdout"
        }
      ]
    },
    {
      "cell_type": "markdown",
      "metadata": {
        "id": "ma0zvGpDX87N",
        "colab_type": "text"
      },
      "source": [
        "### 2. Convert categorical columns to category dtypes"
      ]
    },
    {
      "cell_type": "code",
      "metadata": {
        "id": "pivr_bWrX87O",
        "colab_type": "code",
        "colab": {}
      },
      "source": [
        "# CODE HERE\n",
        "for cat in cat_cols:\n",
        "    df[cat] = df[cat].astype('category')"
      ],
      "execution_count": 6,
      "outputs": []
    },
    {
      "cell_type": "code",
      "metadata": {
        "id": "4TqYFoUocuhi",
        "colab_type": "code",
        "colab": {
          "base_uri": "https://localhost:8080/",
          "height": 306
        },
        "outputId": "01721296-6602-4db9-8088-24bb182b636d"
      },
      "source": [
        "df.info()"
      ],
      "execution_count": 7,
      "outputs": [
        {
          "output_type": "stream",
          "text": [
            "<class 'pandas.core.frame.DataFrame'>\n",
            "RangeIndex: 30000 entries, 0 to 29999\n",
            "Data columns (total 10 columns):\n",
            " #   Column          Non-Null Count  Dtype   \n",
            "---  ------          --------------  -----   \n",
            " 0   age             30000 non-null  int64   \n",
            " 1   sex             30000 non-null  category\n",
            " 2   education       30000 non-null  category\n",
            " 3   education-num   30000 non-null  int64   \n",
            " 4   marital-status  30000 non-null  category\n",
            " 5   workclass       30000 non-null  category\n",
            " 6   occupation      30000 non-null  category\n",
            " 7   hours-per-week  30000 non-null  int64   \n",
            " 8   income          30000 non-null  object  \n",
            " 9   label           30000 non-null  int64   \n",
            "dtypes: category(5), int64(4), object(1)\n",
            "memory usage: 1.3+ MB\n"
          ],
          "name": "stdout"
        }
      ]
    },
    {
      "cell_type": "code",
      "metadata": {
        "id": "eEYEeTMRX87R",
        "colab_type": "code",
        "colab": {}
      },
      "source": [
        "# DON'T WRITE HERE"
      ],
      "execution_count": null,
      "outputs": []
    },
    {
      "cell_type": "markdown",
      "metadata": {
        "id": "PBnlDMv5X87U",
        "colab_type": "text"
      },
      "source": [
        "### Optional: Shuffle the dataset\n",
        "The <strong>income.csv</strong> dataset is already shuffled. However, if you would like to try different configurations after completing the exercises, this is where you would want to shuffle the entire set."
      ]
    },
    {
      "cell_type": "code",
      "metadata": {
        "id": "cwB_3d0FX87U",
        "colab_type": "code",
        "colab": {
          "base_uri": "https://localhost:8080/",
          "height": 289
        },
        "outputId": "05c32a2c-860a-468d-92af-d64734961dfd"
      },
      "source": [
        "# THIS CELL IS OPTIONAL\n",
        "df = shuffle(df, random_state=101)\n",
        "df.reset_index(drop=True, inplace=True)\n",
        "df.head()"
      ],
      "execution_count": 9,
      "outputs": [
        {
          "output_type": "execute_result",
          "data": {
            "text/html": [
              "<div>\n",
              "<style scoped>\n",
              "    .dataframe tbody tr th:only-of-type {\n",
              "        vertical-align: middle;\n",
              "    }\n",
              "\n",
              "    .dataframe tbody tr th {\n",
              "        vertical-align: top;\n",
              "    }\n",
              "\n",
              "    .dataframe thead th {\n",
              "        text-align: right;\n",
              "    }\n",
              "</style>\n",
              "<table border=\"1\" class=\"dataframe\">\n",
              "  <thead>\n",
              "    <tr style=\"text-align: right;\">\n",
              "      <th></th>\n",
              "      <th>age</th>\n",
              "      <th>sex</th>\n",
              "      <th>education</th>\n",
              "      <th>education-num</th>\n",
              "      <th>marital-status</th>\n",
              "      <th>workclass</th>\n",
              "      <th>occupation</th>\n",
              "      <th>hours-per-week</th>\n",
              "      <th>income</th>\n",
              "      <th>label</th>\n",
              "    </tr>\n",
              "  </thead>\n",
              "  <tbody>\n",
              "    <tr>\n",
              "      <th>0</th>\n",
              "      <td>23</td>\n",
              "      <td>Female</td>\n",
              "      <td>HS-grad</td>\n",
              "      <td>9</td>\n",
              "      <td>Never-married</td>\n",
              "      <td>Private</td>\n",
              "      <td>Other-service</td>\n",
              "      <td>50</td>\n",
              "      <td>&lt;=50K</td>\n",
              "      <td>0</td>\n",
              "    </tr>\n",
              "    <tr>\n",
              "      <th>1</th>\n",
              "      <td>37</td>\n",
              "      <td>Female</td>\n",
              "      <td>Prof-school</td>\n",
              "      <td>15</td>\n",
              "      <td>Married</td>\n",
              "      <td>State-gov</td>\n",
              "      <td>Prof-specialty</td>\n",
              "      <td>39</td>\n",
              "      <td>&gt;50K</td>\n",
              "      <td>1</td>\n",
              "    </tr>\n",
              "    <tr>\n",
              "      <th>2</th>\n",
              "      <td>34</td>\n",
              "      <td>Male</td>\n",
              "      <td>Some-college</td>\n",
              "      <td>10</td>\n",
              "      <td>Divorced</td>\n",
              "      <td>Private</td>\n",
              "      <td>Adm-clerical</td>\n",
              "      <td>40</td>\n",
              "      <td>&lt;=50K</td>\n",
              "      <td>0</td>\n",
              "    </tr>\n",
              "    <tr>\n",
              "      <th>3</th>\n",
              "      <td>31</td>\n",
              "      <td>Male</td>\n",
              "      <td>HS-grad</td>\n",
              "      <td>9</td>\n",
              "      <td>Married</td>\n",
              "      <td>Private</td>\n",
              "      <td>Craft-repair</td>\n",
              "      <td>40</td>\n",
              "      <td>&gt;50K</td>\n",
              "      <td>1</td>\n",
              "    </tr>\n",
              "    <tr>\n",
              "      <th>4</th>\n",
              "      <td>20</td>\n",
              "      <td>Female</td>\n",
              "      <td>Some-college</td>\n",
              "      <td>10</td>\n",
              "      <td>Never-married</td>\n",
              "      <td>Private</td>\n",
              "      <td>Sales</td>\n",
              "      <td>25</td>\n",
              "      <td>&lt;=50K</td>\n",
              "      <td>0</td>\n",
              "    </tr>\n",
              "  </tbody>\n",
              "</table>\n",
              "</div>"
            ],
            "text/plain": [
              "   age     sex     education  ...  hours-per-week income label\n",
              "0   23  Female       HS-grad  ...              50  <=50K     0\n",
              "1   37  Female   Prof-school  ...              39   >50K     1\n",
              "2   34    Male  Some-college  ...              40  <=50K     0\n",
              "3   31    Male       HS-grad  ...              40   >50K     1\n",
              "4   20  Female  Some-college  ...              25  <=50K     0\n",
              "\n",
              "[5 rows x 10 columns]"
            ]
          },
          "metadata": {
            "tags": []
          },
          "execution_count": 9
        }
      ]
    },
    {
      "cell_type": "markdown",
      "metadata": {
        "id": "wEACD5PbX87X",
        "colab_type": "text"
      },
      "source": [
        "### 3. Set the embedding sizes\n",
        "Create a variable \"cat_szs\" to hold the number of categories in each variable.<br>\n",
        "Then create a variable \"emb_szs\" to hold the list of (category size, embedding size) tuples."
      ]
    },
    {
      "cell_type": "code",
      "metadata": {
        "id": "nDJdxiMrX87X",
        "colab_type": "code",
        "colab": {
          "base_uri": "https://localhost:8080/",
          "height": 34
        },
        "outputId": "bed2f283-d1cc-4250-9512-84ebd776a296"
      },
      "source": [
        "# CODE HERE\n",
        "cat_szs = [len(df[col].cat.categories) for col in cat_cols]\n",
        "emb_szs = [(size, min(50, (size+1)//2)) for size in cat_szs]\n",
        "emb_szs\n"
      ],
      "execution_count": 8,
      "outputs": [
        {
          "output_type": "execute_result",
          "data": {
            "text/plain": [
              "[(2, 1), (14, 7), (6, 3), (5, 3), (12, 6)]"
            ]
          },
          "metadata": {
            "tags": []
          },
          "execution_count": 8
        }
      ]
    },
    {
      "cell_type": "code",
      "metadata": {
        "id": "z-Xq61TPX87c",
        "colab_type": "code",
        "colab": {},
        "outputId": "42213fd3-1bd5-4afa-f61f-930bb77f3d10"
      },
      "source": [
        "# DON'T WRITE HERE"
      ],
      "execution_count": null,
      "outputs": [
        {
          "output_type": "execute_result",
          "data": {
            "text/plain": [
              "[(2, 1), (14, 7), (6, 3), (5, 3), (12, 6)]"
            ]
          },
          "metadata": {
            "tags": []
          },
          "execution_count": 6
        }
      ]
    },
    {
      "cell_type": "markdown",
      "metadata": {
        "id": "DUbjQDzfX87f",
        "colab_type": "text"
      },
      "source": [
        "### 4. Create an array of categorical values\n",
        "Create a NumPy array called \"cats\" that contains a stack of each categorical column <tt>.cat.codes.values</tt><br>\n",
        "Note: your output may contain different values. Ours came after performing the shuffle step shown above."
      ]
    },
    {
      "cell_type": "code",
      "metadata": {
        "id": "Xpq1QdKeX87g",
        "colab_type": "code",
        "colab": {
          "base_uri": "https://localhost:8080/",
          "height": 102
        },
        "outputId": "d8d3b807-ed1c-422e-a912-5c5e72d90942"
      },
      "source": [
        "# CODE HERE\n",
        "sex = df['sex'].cat.codes.values\n",
        "edu = df['education'].cat.codes.values\n",
        "mar = df['marital-status'].cat.codes.values\n",
        "wc = df['workclass'].cat.codes.values\n",
        "oc = df['occupation'].cat.codes.values\n",
        "\n",
        "cats = np.stack([sex, edu, mar,wc,oc], 1)\n",
        "\n",
        "# RUN THIS CODE TO COMPARE RESULTS\n",
        "cats[:5]"
      ],
      "execution_count": 10,
      "outputs": [
        {
          "output_type": "execute_result",
          "data": {
            "text/plain": [
              "array([[ 0, 10,  3,  2,  6],\n",
              "       [ 0, 12,  1,  4,  7],\n",
              "       [ 1, 13,  0,  2,  0],\n",
              "       [ 1, 10,  1,  2,  1],\n",
              "       [ 0, 13,  3,  2,  9]], dtype=int8)"
            ]
          },
          "metadata": {
            "tags": []
          },
          "execution_count": 10
        }
      ]
    },
    {
      "cell_type": "code",
      "metadata": {
        "id": "k91DkzMcX87i",
        "colab_type": "code",
        "colab": {},
        "outputId": "4e3f01f9-63e4-4344-aefa-e032d13ece96"
      },
      "source": [
        "# DON'T WRITE HERE"
      ],
      "execution_count": null,
      "outputs": [
        {
          "output_type": "execute_result",
          "data": {
            "text/plain": [
              "array([[ 1, 10,  3,  2,  1],\n",
              "       [ 1, 11,  1,  1,  2],\n",
              "       [ 1, 10,  0,  3,  7],\n",
              "       [ 0, 12,  3,  0,  7],\n",
              "       [ 0,  1,  5,  2,  3]], dtype=int8)"
            ]
          },
          "metadata": {
            "tags": []
          },
          "execution_count": 7
        }
      ]
    },
    {
      "cell_type": "markdown",
      "metadata": {
        "id": "CQ4lgy3kX87k",
        "colab_type": "text"
      },
      "source": [
        "### 5. Convert \"cats\" to a tensor\n",
        "Convert the \"cats\" NumPy array to a tensor of dtype <tt>int64</tt>"
      ]
    },
    {
      "cell_type": "code",
      "metadata": {
        "id": "5eVxOOZXX87k",
        "colab_type": "code",
        "colab": {}
      },
      "source": [
        "# CODE HERE\n",
        "cats = torch.LongTensor(cats)"
      ],
      "execution_count": 12,
      "outputs": []
    },
    {
      "cell_type": "code",
      "metadata": {
        "id": "FG2nJMcxX87n",
        "colab_type": "code",
        "colab": {}
      },
      "source": [
        "# DON'T WRITE HERE"
      ],
      "execution_count": null,
      "outputs": []
    },
    {
      "cell_type": "markdown",
      "metadata": {
        "id": "tffQAPoUX87q",
        "colab_type": "text"
      },
      "source": [
        "### 6. Create an array of continuous values\n",
        "Create a NumPy array called \"conts\" that contains a stack of each continuous column.<br>\n",
        "Note: your output may contain different values. Ours came after performing the shuffle step shown above."
      ]
    },
    {
      "cell_type": "code",
      "metadata": {
        "id": "EVNjTQhtX87q",
        "colab_type": "code",
        "colab": {
          "base_uri": "https://localhost:8080/",
          "height": 102
        },
        "outputId": "23b1bfbf-4adb-4479-d033-9e0bf42aeb3b"
      },
      "source": [
        "# CODE HERE\n",
        "conts = np.stack([df[col] for col in cont_cols],1)\n",
        "\n",
        "# RUN THIS CODE TO COMPARE RESULTS\n",
        "conts[:5]"
      ],
      "execution_count": 14,
      "outputs": [
        {
          "output_type": "execute_result",
          "data": {
            "text/plain": [
              "array([[23, 50],\n",
              "       [37, 39],\n",
              "       [34, 40],\n",
              "       [31, 40],\n",
              "       [20, 25]])"
            ]
          },
          "metadata": {
            "tags": []
          },
          "execution_count": 14
        }
      ]
    },
    {
      "cell_type": "code",
      "metadata": {
        "id": "YzuH6CW4X87t",
        "colab_type": "code",
        "colab": {},
        "outputId": "5e4148df-4d9b-4900-c989-7baa4606ce75"
      },
      "source": [
        "# DON'T WRITE HERE"
      ],
      "execution_count": null,
      "outputs": [
        {
          "output_type": "execute_result",
          "data": {
            "text/plain": [
              "array([[27, 40],\n",
              "       [47, 50],\n",
              "       [59, 20],\n",
              "       [38, 57],\n",
              "       [64, 40]], dtype=int64)"
            ]
          },
          "metadata": {
            "tags": []
          },
          "execution_count": 9
        }
      ]
    },
    {
      "cell_type": "markdown",
      "metadata": {
        "id": "sfqoSFCEX87w",
        "colab_type": "text"
      },
      "source": [
        "### 7. Convert \"conts\" to a tensor\n",
        "Convert the \"conts\" NumPy array to a tensor of dtype <tt>float32</tt>"
      ]
    },
    {
      "cell_type": "code",
      "metadata": {
        "id": "EvkB2oV0X87w",
        "colab_type": "code",
        "colab": {
          "base_uri": "https://localhost:8080/",
          "height": 34
        },
        "outputId": "c00929b7-d097-409e-cdc2-40842d6d8e60"
      },
      "source": [
        "# CODE HERE\n",
        "conts = torch.FloatTensor(conts)\n",
        "\n",
        "# RUN THIS CODE TO COMPARE RESULTS\n",
        "conts.dtype"
      ],
      "execution_count": 15,
      "outputs": [
        {
          "output_type": "execute_result",
          "data": {
            "text/plain": [
              "torch.float32"
            ]
          },
          "metadata": {
            "tags": []
          },
          "execution_count": 15
        }
      ]
    },
    {
      "cell_type": "code",
      "metadata": {
        "id": "3Ic5u1UJX87y",
        "colab_type": "code",
        "colab": {},
        "outputId": "1038b88f-278f-41b2-ffe8-73dc4423a398"
      },
      "source": [
        "# DON'T WRITE HERE"
      ],
      "execution_count": null,
      "outputs": [
        {
          "output_type": "execute_result",
          "data": {
            "text/plain": [
              "torch.float32"
            ]
          },
          "metadata": {
            "tags": []
          },
          "execution_count": 10
        }
      ]
    },
    {
      "cell_type": "markdown",
      "metadata": {
        "id": "yULJsGspX870",
        "colab_type": "text"
      },
      "source": [
        "### 8. Create a label tensor\n",
        "Create a tensor called \"y\" from the values in the label column. Be sure to flatten the tensor so that it can be passed into the CE Loss function."
      ]
    },
    {
      "cell_type": "code",
      "metadata": {
        "id": "8u5HgENCX871",
        "colab_type": "code",
        "colab": {}
      },
      "source": [
        "# CODE HERE\n",
        "y = torch.LongTensor(df[y_col].values).flatten()"
      ],
      "execution_count": 18,
      "outputs": []
    },
    {
      "cell_type": "code",
      "metadata": {
        "id": "jcxyP4CjX873",
        "colab_type": "code",
        "colab": {}
      },
      "source": [
        "# DON'T WRITE HERE"
      ],
      "execution_count": null,
      "outputs": []
    },
    {
      "cell_type": "markdown",
      "metadata": {
        "id": "eaH9GHMNX875",
        "colab_type": "text"
      },
      "source": [
        "### 9. Create train and test sets from <tt>cats</tt>, <tt>conts</tt>, and <tt>y</tt>\n",
        "We use the entire batch of 30,000 records, but a smaller batch size will save time during training.<br>\n",
        "We used a test size of 5,000 records, but you can choose another fixed value or a percentage of the batch size.<br>\n",
        "Make sure that your test records remain separate from your training records, without overlap.<br>\n",
        "To make coding slices easier, we recommend assigning batch and test sizes to simple variables like \"b\" and \"t\"."
      ]
    },
    {
      "cell_type": "code",
      "metadata": {
        "id": "OLBgknd5X875",
        "colab_type": "code",
        "colab": {}
      },
      "source": [
        "# CODE HERE\n",
        "b = 30000 # suggested batch size\n",
        "t = 5000  # suggested test size\n",
        "\n",
        "cat_train = cats[:b-t]\n",
        "cat_test = cats[b-t:b]\n",
        "con_train = conts[:b-t]\n",
        "con_test = conts[b-t:b]\n",
        "y_train = y[:b-t]\n",
        "y_test = y[b-t:b]\n",
        "\n",
        "\n",
        "\n"
      ],
      "execution_count": 19,
      "outputs": []
    },
    {
      "cell_type": "code",
      "metadata": {
        "id": "KirUrLk9X877",
        "colab_type": "code",
        "colab": {}
      },
      "source": [
        "# DON'T WRITE HERE"
      ],
      "execution_count": null,
      "outputs": []
    },
    {
      "cell_type": "markdown",
      "metadata": {
        "id": "QSdobOd0X87_",
        "colab_type": "text"
      },
      "source": [
        "### Define the model class\n",
        "Run the cell below to define the TabularModel model class we've used before."
      ]
    },
    {
      "cell_type": "code",
      "metadata": {
        "id": "fYfD3P7AX87_",
        "colab_type": "code",
        "colab": {}
      },
      "source": [
        "class TabularModel(nn.Module):\n",
        "\n",
        "    def __init__(self, emb_szs, n_cont, out_sz, layers, p=0.5):\n",
        "        # Call the parent __init__\n",
        "        super().__init__()\n",
        "        \n",
        "        # Set up the embedding, dropout, and batch normalization layer attributes\n",
        "        self.embeds = nn.ModuleList([nn.Embedding(ni, nf) for ni,nf in emb_szs])\n",
        "        self.emb_drop = nn.Dropout(p)\n",
        "        self.bn_cont = nn.BatchNorm1d(n_cont)\n",
        "        \n",
        "        # Assign a variable to hold a list of layers\n",
        "        layerlist = []\n",
        "        \n",
        "        # Assign a variable to store the number of embedding and continuous layers\n",
        "        n_emb = sum((nf for ni,nf in emb_szs))\n",
        "        n_in = n_emb + n_cont\n",
        "        \n",
        "        # Iterate through the passed-in \"layers\" parameter (ie, [200,100]) to build a list of layers\n",
        "        for i in layers:\n",
        "            layerlist.append(nn.Linear(n_in,i)) \n",
        "            layerlist.append(nn.ReLU(inplace=True))\n",
        "            layerlist.append(nn.BatchNorm1d(i))\n",
        "            layerlist.append(nn.Dropout(p))\n",
        "            n_in = i\n",
        "        layerlist.append(nn.Linear(layers[-1],out_sz))\n",
        "        \n",
        "        # Convert the list of layers into an attribute\n",
        "        self.layers = nn.Sequential(*layerlist)\n",
        "    \n",
        "    def forward(self, x_cat, x_cont):\n",
        "        # Extract embedding values from the incoming categorical data\n",
        "        embeddings = []\n",
        "        for i,e in enumerate(self.embeds):\n",
        "            embeddings.append(e(x_cat[:,i]))\n",
        "        x = torch.cat(embeddings, 1)\n",
        "        # Perform an initial dropout on the embeddings\n",
        "        x = self.emb_drop(x)\n",
        "        \n",
        "        # Normalize the incoming continuous data\n",
        "        x_cont = self.bn_cont(x_cont)\n",
        "        x = torch.cat([x, x_cont], 1)\n",
        "        \n",
        "        # Set up model layers\n",
        "        x = self.layers(x)\n",
        "        return x"
      ],
      "execution_count": 20,
      "outputs": []
    },
    {
      "cell_type": "markdown",
      "metadata": {
        "id": "727t_21wX88C",
        "colab_type": "text"
      },
      "source": [
        "### 10. Set the random seed\n",
        "To obtain results that can be recreated, set a torch manual_seed (we used 33)."
      ]
    },
    {
      "cell_type": "code",
      "metadata": {
        "id": "r-ckuw4LX88C",
        "colab_type": "code",
        "colab": {
          "base_uri": "https://localhost:8080/",
          "height": 34
        },
        "outputId": "c5b5425e-b79c-45e9-ee0d-12368a58e6fb"
      },
      "source": [
        "# CODE HERE\n",
        "torch.manual_seed(33)"
      ],
      "execution_count": 21,
      "outputs": [
        {
          "output_type": "execute_result",
          "data": {
            "text/plain": [
              "<torch._C.Generator at 0x7f09c82a40c0>"
            ]
          },
          "metadata": {
            "tags": []
          },
          "execution_count": 21
        }
      ]
    },
    {
      "cell_type": "code",
      "metadata": {
        "id": "MW6DrN_6X88E",
        "colab_type": "code",
        "colab": {},
        "outputId": "168bcf8e-0e98-4d68-e60a-6a95ac084ac8"
      },
      "source": [
        "# DON'T WRITE HERE"
      ],
      "execution_count": null,
      "outputs": [
        {
          "output_type": "execute_result",
          "data": {
            "text/plain": [
              "<torch._C.Generator at 0x1e5e64e5e30>"
            ]
          },
          "metadata": {
            "tags": []
          },
          "execution_count": 14
        }
      ]
    },
    {
      "cell_type": "markdown",
      "metadata": {
        "id": "v7dPQJwNX88G",
        "colab_type": "text"
      },
      "source": [
        "### 11. Create a TabularModel instance\n",
        "Create an instance called \"model\" with one hidden layer containing 50 neurons and a dropout layer p-value of 0.4"
      ]
    },
    {
      "cell_type": "code",
      "metadata": {
        "id": "xHhkDygNX88H",
        "colab_type": "code",
        "colab": {
          "base_uri": "https://localhost:8080/",
          "height": 323
        },
        "outputId": "140c12a2-12a0-4c12-dfb7-d2ce7427813d"
      },
      "source": [
        "# CODE HERE\n",
        "model = TabularModel(emb_szs,conts.shape[1],2,[50],p=0.4)\n",
        "\n",
        "# RUN THIS CODE TO COMPARE RESULTS\n",
        "model"
      ],
      "execution_count": 22,
      "outputs": [
        {
          "output_type": "execute_result",
          "data": {
            "text/plain": [
              "TabularModel(\n",
              "  (embeds): ModuleList(\n",
              "    (0): Embedding(2, 1)\n",
              "    (1): Embedding(14, 7)\n",
              "    (2): Embedding(6, 3)\n",
              "    (3): Embedding(5, 3)\n",
              "    (4): Embedding(12, 6)\n",
              "  )\n",
              "  (emb_drop): Dropout(p=0.4, inplace=False)\n",
              "  (bn_cont): BatchNorm1d(2, eps=1e-05, momentum=0.1, affine=True, track_running_stats=True)\n",
              "  (layers): Sequential(\n",
              "    (0): Linear(in_features=22, out_features=50, bias=True)\n",
              "    (1): ReLU(inplace=True)\n",
              "    (2): BatchNorm1d(50, eps=1e-05, momentum=0.1, affine=True, track_running_stats=True)\n",
              "    (3): Dropout(p=0.4, inplace=False)\n",
              "    (4): Linear(in_features=50, out_features=2, bias=True)\n",
              "  )\n",
              ")"
            ]
          },
          "metadata": {
            "tags": []
          },
          "execution_count": 22
        }
      ]
    },
    {
      "cell_type": "code",
      "metadata": {
        "id": "8WgqlXV1X88K",
        "colab_type": "code",
        "colab": {},
        "outputId": "a4291ad6-8a4b-4f16-e840-97331659baad"
      },
      "source": [
        "# DON'T WRITE HERE"
      ],
      "execution_count": null,
      "outputs": [
        {
          "output_type": "execute_result",
          "data": {
            "text/plain": [
              "TabularModel(\n",
              "  (embeds): ModuleList(\n",
              "    (0): Embedding(2, 1)\n",
              "    (1): Embedding(14, 7)\n",
              "    (2): Embedding(6, 3)\n",
              "    (3): Embedding(5, 3)\n",
              "    (4): Embedding(12, 6)\n",
              "  )\n",
              "  (emb_drop): Dropout(p=0.4)\n",
              "  (bn_cont): BatchNorm1d(2, eps=1e-05, momentum=0.1, affine=True, track_running_stats=True)\n",
              "  (layers): Sequential(\n",
              "    (0): Linear(in_features=22, out_features=50, bias=True)\n",
              "    (1): ReLU(inplace)\n",
              "    (2): BatchNorm1d(50, eps=1e-05, momentum=0.1, affine=True, track_running_stats=True)\n",
              "    (3): Dropout(p=0.4)\n",
              "    (4): Linear(in_features=50, out_features=2, bias=True)\n",
              "  )\n",
              ")"
            ]
          },
          "metadata": {
            "tags": []
          },
          "execution_count": 15
        }
      ]
    },
    {
      "cell_type": "markdown",
      "metadata": {
        "id": "kx74GzWwX88M",
        "colab_type": "text"
      },
      "source": [
        "### 12. Define the loss and optimization functions\n",
        "Create a loss function called \"criterion\" using CrossEntropyLoss<br>\n",
        "Create an optimization function called \"optimizer\" using Adam, with a learning rate of 0.001"
      ]
    },
    {
      "cell_type": "code",
      "metadata": {
        "id": "ityTLrd0X88N",
        "colab_type": "code",
        "colab": {}
      },
      "source": [
        "# CODE HERE\n",
        "criterion = nn.CrossEntropyLoss()\n",
        "optimizer = torch.optim.Adam(model.parameters(), lr=0.001)"
      ],
      "execution_count": 23,
      "outputs": []
    },
    {
      "cell_type": "code",
      "metadata": {
        "id": "NvgkJMFDX88O",
        "colab_type": "code",
        "colab": {}
      },
      "source": [
        "# DON'T WRITE HERE"
      ],
      "execution_count": null,
      "outputs": []
    },
    {
      "cell_type": "markdown",
      "metadata": {
        "id": "vTzl2YJ2X88R",
        "colab_type": "text"
      },
      "source": [
        "### Train the model\n",
        "Run the cell below to train the model through 300 epochs. Remember, results may vary!<br>\n",
        "After completing the exercises, feel free to come back to this section and experiment with different parameters."
      ]
    },
    {
      "cell_type": "code",
      "metadata": {
        "id": "Kz2rrjmsX88R",
        "colab_type": "code",
        "colab": {
          "base_uri": "https://localhost:8080/",
          "height": 272
        },
        "outputId": "54c83a5d-2599-4110-c40b-fd769b14b6a6"
      },
      "source": [
        "import time\n",
        "start_time = time.time()\n",
        "\n",
        "epochs = 300\n",
        "losses = []\n",
        "\n",
        "for i in range(epochs):\n",
        "    i+=1\n",
        "    y_pred = model(cat_train, con_train)\n",
        "    loss = criterion(y_pred, y_train)\n",
        "    losses.append(loss)\n",
        "    \n",
        "    # a neat trick to save screen space:\n",
        "    if i%25 == 1:\n",
        "        print(f'epoch: {i:3}  loss: {loss.item():10.8f}')\n",
        "\n",
        "    optimizer.zero_grad()\n",
        "    loss.backward()\n",
        "    optimizer.step()\n",
        "\n",
        "print(f'epoch: {i:3}  loss: {loss.item():10.8f}') # print the last line\n",
        "print(f'\\nDuration: {time.time() - start_time:.0f} seconds') # print the time elapsed"
      ],
      "execution_count": 24,
      "outputs": [
        {
          "output_type": "stream",
          "text": [
            "epoch:   1  loss: 0.81377381\n",
            "epoch:  26  loss: 0.59307647\n",
            "epoch:  51  loss: 0.51390660\n",
            "epoch:  76  loss: 0.46117532\n",
            "epoch: 101  loss: 0.42819473\n",
            "epoch: 126  loss: 0.39755747\n",
            "epoch: 151  loss: 0.38082278\n",
            "epoch: 176  loss: 0.35858995\n",
            "epoch: 201  loss: 0.34402317\n",
            "epoch: 226  loss: 0.33574829\n",
            "epoch: 251  loss: 0.32717568\n",
            "epoch: 276  loss: 0.32316080\n",
            "epoch: 300  loss: 0.31617704\n",
            "\n",
            "Duration: 84 seconds\n"
          ],
          "name": "stdout"
        }
      ]
    },
    {
      "cell_type": "markdown",
      "metadata": {
        "id": "TEgKP9G9X88V",
        "colab_type": "text"
      },
      "source": [
        "### 13. Plot the Cross Entropy Loss against epochs\n",
        "Results may vary. The shape of the plot is what matters."
      ]
    },
    {
      "cell_type": "code",
      "metadata": {
        "id": "ubel68B6X88V",
        "colab_type": "code",
        "colab": {
          "base_uri": "https://localhost:8080/",
          "height": 296
        },
        "outputId": "968711fd-a30f-4885-fd21-0cfb07431599"
      },
      "source": [
        "# CODE HERE\n",
        "plt.plot(range(epochs), losses)\n",
        "plt.ylabel('Cross Entropy Loss')\n",
        "plt.xlabel('epoch')\n",
        "\n"
      ],
      "execution_count": 25,
      "outputs": [
        {
          "output_type": "execute_result",
          "data": {
            "text/plain": [
              "Text(0.5, 0, 'epoch')"
            ]
          },
          "metadata": {
            "tags": []
          },
          "execution_count": 25
        },
        {
          "output_type": "display_data",
          "data": {
            "image/png": "[encoded data removed]",
            "text/plain": [
              "<Figure size 432x288 with 1 Axes>"
            ]
          },
          "metadata": {
            "tags": [],
            "needs_background": "light"
          }
        }
      ]
    },
    {
      "cell_type": "code",
      "metadata": {
        "scrolled": true,
        "id": "LNy4KFjiX88X",
        "colab_type": "code",
        "colab": {},
        "outputId": "75dd6366-74ef-4b52-bcde-446f6f1cd09e"
      },
      "source": [
        "# DON'T WRITE HERE"
      ],
      "execution_count": null,
      "outputs": [
        {
          "output_type": "display_data",
          "data": {
            "image/png": "[encoded data removed]",
            "text/plain": [
              "<Figure size 432x288 with 1 Axes>"
            ]
          },
          "metadata": {
            "tags": [],
            "needs_background": "light"
          }
        }
      ]
    },
    {
      "cell_type": "markdown",
      "metadata": {
        "id": "qRablQyBX88a",
        "colab_type": "text"
      },
      "source": [
        "### 14. Evaluate the test set\n",
        "With torch set to <tt>no_grad</tt>, pass <tt>cat_test</tt> and <tt>con_test</tt> through the trained model. Create a validation set called \"y_val\". Compare the output to <tt>y_test</tt> using the loss function defined above. Results may vary."
      ]
    },
    {
      "cell_type": "code",
      "metadata": {
        "id": "IMkcjIgCX88a",
        "colab_type": "code",
        "colab": {
          "base_uri": "https://localhost:8080/",
          "height": 51
        },
        "outputId": "6f124878-7ce4-49d0-c972-37d96e578b94"
      },
      "source": [
        "# CODE HERE\n",
        "with torch.no_grad():\n",
        "    y_val = model(cat_test, con_test)\n",
        "    loss = criterion(y_val, y_test)\n",
        "print(f'CE Loss: {loss:.8f}')\n",
        "\n",
        "\n",
        "\n",
        "# RUN THIS CODE TO COMPARE RESULTS\n",
        "print(f'CE Loss: {loss:.8f}')"
      ],
      "execution_count": 26,
      "outputs": [
        {
          "output_type": "stream",
          "text": [
            "CE Loss: 0.33356225\n",
            "CE Loss: 0.33356225\n"
          ],
          "name": "stdout"
        }
      ]
    },
    {
      "cell_type": "code",
      "metadata": {
        "id": "vJzCzvMMX88c",
        "colab_type": "code",
        "colab": {},
        "outputId": "45d02a84-6b51-4299-99f2-953515ce0829"
      },
      "source": [
        "# TO EVALUATE THE TEST SET"
      ],
      "execution_count": null,
      "outputs": [
        {
          "output_type": "stream",
          "text": [
            "CE Loss: 0.30774996\n"
          ],
          "name": "stdout"
        }
      ]
    },
    {
      "cell_type": "markdown",
      "metadata": {
        "id": "4jOgo322X88e",
        "colab_type": "text"
      },
      "source": [
        "### 15. Calculate the overall percent accuracy\n",
        "Using a for loop, compare the argmax values of the <tt>y_val</tt> validation set to the <tt>y_test</tt> set."
      ]
    },
    {
      "cell_type": "code",
      "metadata": {
        "id": "ZrSPTo3TX88e",
        "colab_type": "code",
        "colab": {
          "base_uri": "https://localhost:8080/",
          "height": 918
        },
        "outputId": "4789bb14-627b-4c26-fb90-0989df08badf"
      },
      "source": [
        "# CODE HERE\n",
        "\n",
        "rows = 50\n",
        "correct = 0\n",
        "print(f'{\"MODEL OUTPUT\":26} ARGMAX  Y_TEST')\n",
        "for i in range(rows):\n",
        "    print(f'{str(y_val[i]):26} {y_val[i].argmax():^7}{y_test[i]:^7}')\n",
        "    if y_val[i].argmax().item() == y_test[i]:\n",
        "        correct += 1\n",
        "print(f'\\n{correct} out of {rows} = {100*correct/rows:.2f}% correct')\n",
        "\n",
        "\n",
        "\n"
      ],
      "execution_count": 27,
      "outputs": [
        {
          "output_type": "stream",
          "text": [
            "MODEL OUTPUT               ARGMAX  Y_TEST\n",
            "tensor([ 0.9583, -1.2613])    0      0   \n",
            "tensor([ 0.5799, -1.3899])    0      0   \n",
            "tensor([ 0.4819, -0.2075])    0      0   \n",
            "tensor([-0.2420,  0.2824])    1      0   \n",
            "tensor([ 1.7496, -2.8047])    0      0   \n",
            "tensor([ 1.4027, -2.2928])    0      0   \n",
            "tensor([ 1.3971, -1.2615])    0      0   \n",
            "tensor([-0.7750,  0.4269])    1      0   \n",
            "tensor([-0.4513,  0.0359])    1      1   \n",
            "tensor([ 0.7381, -0.8271])    0      0   \n",
            "tensor([ 1.5010, -1.7176])    0      0   \n",
            "tensor([ 0.1972, -1.0211])    0      0   \n",
            "tensor([ 0.4542, -0.9997])    0      1   \n",
            "tensor([-0.9357,  1.0061])    1      1   \n",
            "tensor([ 5.1911, -2.2495])    0      0   \n",
            "tensor([0.2974, 1.0317])      1      1   \n",
            "tensor([ 3.5006, -3.2985])    0      0   \n",
            "tensor([-0.3318,  0.2784])    1      0   \n",
            "tensor([ 0.2011, -0.7750])    0      0   \n",
            "tensor([-1.1326,  0.5340])    1      0   \n",
            "tensor([ 0.2440, -0.5203])    0      1   \n",
            "tensor([ 1.2279, -1.7172])    0      0   \n",
            "tensor([-0.4616, -0.1045])    1      1   \n",
            "tensor([ 2.0571, -1.7520])    0      0   \n",
            "tensor([ 2.2916, -2.0387])    0      0   \n",
            "tensor([-0.4997, -0.1443])    1      0   \n",
            "tensor([ 0.4259, -0.5680])    0      1   \n",
            "tensor([ 3.0809, -2.8471])    0      0   \n",
            "tensor([ 1.6246, -1.3602])    0      0   \n",
            "tensor([ 3.0280, -2.6766])    0      0   \n",
            "tensor([ 1.8389, -3.1986])    0      0   \n",
            "tensor([ 2.7592, -2.2544])    0      0   \n",
            "tensor([0.1649, 0.5290])      1      1   \n",
            "tensor([ 2.3579, -1.4361])    0      0   \n",
            "tensor([ 2.8928, -2.7380])    0      0   \n",
            "tensor([ 0.3176, -0.1620])    0      1   \n",
            "tensor([-0.9332,  0.2672])    1      1   \n",
            "tensor([-1.0228,  1.0674])    1      1   \n",
            "tensor([ 0.5445, -0.1520])    0      0   \n",
            "tensor([-0.8822,  0.4474])    1      1   \n",
            "tensor([ 0.1250, -0.5814])    0      0   \n",
            "tensor([-1.4083,  1.4837])    1      1   \n",
            "tensor([ 0.2632, -0.2778])    0      0   \n",
            "tensor([ 3.3723, -1.8355])    0      0   \n",
            "tensor([ 2.9899, -3.2431])    0      0   \n",
            "tensor([ 4.4828, -4.8230])    0      0   \n",
            "tensor([ 3.1316, -2.0703])    0      0   \n",
            "tensor([ 1.2995, -1.4719])    0      0   \n",
            "tensor([0.1496, 0.1863])      1      0   \n",
            "tensor([ 2.8585, -3.3244])    0      0   \n",
            "\n",
            "40 out of 50 = 80.00% correct\n"
          ],
          "name": "stdout"
        }
      ]
    },
    {
      "cell_type": "code",
      "metadata": {
        "id": "IRLqStFHX88g",
        "colab_type": "code",
        "colab": {},
        "outputId": "4e2a02a6-19bd-4902-e4e4-afd3d6ab6839"
      },
      "source": [
        "# DON'T WRITE HERE"
      ],
      "execution_count": null,
      "outputs": [
        {
          "output_type": "stream",
          "text": [
            "\n",
            "4255 out of 5000 = 85.10% correct\n"
          ],
          "name": "stdout"
        }
      ]
    },
    {
      "cell_type": "markdown",
      "metadata": {
        "id": "NcHDEspnX88k",
        "colab_type": "text"
      },
      "source": [
        "### BONUS: Feed new data through the trained model\n",
        "See if you can write a function that allows a user to input their own values, and generates a prediction.<br>\n",
        "<strong>HINT</strong>:<br>There's no need to build a DataFrame. You can use inputs to populate column variables, convert them to embeddings with a context dictionary, and pass the embedded values directly into the tensor constructors:<br>\n",
        "<pre>mar = input(\"What is the person's marital status? \")\n",
        "mar_d = dict(Divorced=0, Married=1, Married-spouse-absent=2, Never-married=3, Separated=4, Widowed=5)\n",
        "mar = mar_d[mar]\n",
        "cats = torch.tensor([..., ..., mar, ..., ...], dtype=torch.int64).reshape(1,-1)</pre>\n",
        "Make sure that names are put in alphabetical order before assigning numbers.\n",
        "\n",
        "Also, be sure to run <tt>model.eval()</tt> before passing new date through. Good luck!"
      ]
    },
    {
      "cell_type": "code",
      "metadata": {
        "id": "SmWRvl6TX88k",
        "colab_type": "code",
        "colab": {}
      },
      "source": [
        "# WRITE YOUR CODE HERE:\n"
      ],
      "execution_count": null,
      "outputs": []
    },
    {
      "cell_type": "code",
      "metadata": {
        "id": "TRG8cIoOX88n",
        "colab_type": "code",
        "colab": {}
      },
      "source": [
        "# RUN YOUR CODE HERE:\n"
      ],
      "execution_count": null,
      "outputs": []
    },
    {
      "cell_type": "code",
      "metadata": {
        "id": "EMVs3XorX88r",
        "colab_type": "code",
        "colab": {},
        "outputId": "e2df7165-098d-4a95-9959-a6e1368e2156"
      },
      "source": [
        "# DON'T WRITE HERE"
      ],
      "execution_count": null,
      "outputs": [
        {
          "output_type": "stream",
          "text": [
            "What is the person's age? (18-90)  22\n",
            "What is the person's sex? (Male/Female) male\n",
            "What is the person's education level? (3-16) 12\n",
            "What is the person's marital status? married\n",
            "What is the person's workclass? private\n",
            "What is the person's occupation? sales\n",
            "How many hours/week are worked? (20-90)  40\n",
            "\n",
            "The predicted label is 0\n"
          ],
          "name": "stdout"
        }
      ]
    },
    {
      "cell_type": "markdown",
      "metadata": {
        "id": "KyDVSjX7X88t",
        "colab_type": "text"
      },
      "source": [
        "## Great job!"
      ]
    }
  ]
}