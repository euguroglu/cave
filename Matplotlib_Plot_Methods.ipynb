{
  "nbformat": 4,
  "nbformat_minor": 0,
  "metadata": {
    "colab": {
      "name": "Matplotlib_Plot_Methods.ipynb",
      "provenance": [],
      "authorship_tag": "ABX9TyPW1EWKN6wlU+VT8twoW8xx",
      "include_colab_link": true
    },
    "kernelspec": {
      "name": "python3",
      "display_name": "Python 3"
    }
  },
  "cells": [
    {
      "cell_type": "markdown",
      "metadata": {
        "id": "view-in-github",
        "colab_type": "text"
      },
      "source": [
        "<a href=\"https://colab.research.google.com/github/euguroglu/cave/blob/master/Matplotlib_Plot_Methods.ipynb\" target=\"_parent\"><img src=\"https://colab.research.google.com/assets/colab-badge.svg\" alt=\"Open In Colab\"/></a>"
      ]
    },
    {
      "cell_type": "markdown",
      "metadata": {
        "id": "2lhrsI4ulWxU",
        "colab_type": "text"
      },
      "source": [
        "## Matplotlib Plot Creating Methods"
      ]
    },
    {
      "cell_type": "code",
      "metadata": {
        "id": "-79ZT08_c_Bk",
        "colab_type": "code",
        "colab": {}
      },
      "source": [
        "import matplotlib.pyplot as plt\n",
        "%matplotlib inline\n",
        "import numpy as np"
      ],
      "execution_count": 3,
      "outputs": []
    },
    {
      "cell_type": "code",
      "metadata": {
        "id": "t8oSA0cHdICx",
        "colab_type": "code",
        "colab": {}
      },
      "source": [
        "x = np.linspace(0,5,11)\n",
        "y = x**2"
      ],
      "execution_count": 5,
      "outputs": []
    },
    {
      "cell_type": "code",
      "metadata": {
        "id": "AXTDqVM0dXMY",
        "colab_type": "code",
        "colab": {
          "base_uri": "https://localhost:8080/",
          "height": 34
        },
        "outputId": "33be7cb8-efeb-4b11-e1d4-7754a03edc21"
      },
      "source": [
        "x"
      ],
      "execution_count": 6,
      "outputs": [
        {
          "output_type": "execute_result",
          "data": {
            "text/plain": [
              "array([0. , 0.5, 1. , 1.5, 2. , 2.5, 3. , 3.5, 4. , 4.5, 5. ])"
            ]
          },
          "metadata": {
            "tags": []
          },
          "execution_count": 6
        }
      ]
    },
    {
      "cell_type": "code",
      "metadata": {
        "id": "D7cqfGBLdbLI",
        "colab_type": "code",
        "colab": {
          "base_uri": "https://localhost:8080/",
          "height": 51
        },
        "outputId": "71f5e7fa-4ebc-4abe-c4c2-fc31527f3712"
      },
      "source": [
        "y"
      ],
      "execution_count": 7,
      "outputs": [
        {
          "output_type": "execute_result",
          "data": {
            "text/plain": [
              "array([ 0.  ,  0.25,  1.  ,  2.25,  4.  ,  6.25,  9.  , 12.25, 16.  ,\n",
              "       20.25, 25.  ])"
            ]
          },
          "metadata": {
            "tags": []
          },
          "execution_count": 7
        }
      ]
    },
    {
      "cell_type": "markdown",
      "metadata": {
        "id": "mK95R6yQeIT8",
        "colab_type": "text"
      },
      "source": [
        "Functional method"
      ]
    },
    {
      "cell_type": "code",
      "metadata": {
        "id": "8i_7kmjVdbfo",
        "colab_type": "code",
        "colab": {
          "base_uri": "https://localhost:8080/",
          "height": 295
        },
        "outputId": "81245c84-6c6f-4158-c02c-112e7c690261"
      },
      "source": [
        "#Example 1\n",
        "plt.plot(x,y)\n",
        "plt.xlabel('X')\n",
        "plt.ylabel('Y')\n",
        "plt.title('X Y Plot')\n",
        "plt.show()"
      ],
      "execution_count": 10,
      "outputs": [
        {
          "output_type": "display_data",
          "data": {
            "image/png": "[encoded data removed]",
            "text/plain": [
              "<Figure size 432x288 with 1 Axes>"
            ]
          },
          "metadata": {
            "tags": [],
            "needs_background": "light"
          }
        }
      ]
    },
    {
      "cell_type": "code",
      "metadata": {
        "id": "YfSUMFq8eLwH",
        "colab_type": "code",
        "colab": {
          "base_uri": "https://localhost:8080/",
          "height": 374
        },
        "outputId": "5587e891-9dcd-4bb3-f876-62dbb1676377"
      },
      "source": [
        "#Example 2\n",
        "plt.figure(figsize=(12,6))\n",
        "plt.subplot(1,2,1)\n",
        "plt.plot(x,y,'r')\n",
        "plt.subplot(1,2,2)\n",
        "plt.plot(y,x,'b')\n",
        "plt.show()"
      ],
      "execution_count": 17,
      "outputs": [
        {
          "output_type": "display_data",
          "data": {
            "image/png": "[encoded data removed]",
            "text/plain": [
              "<Figure size 864x432 with 2 Axes>"
            ]
          },
          "metadata": {
            "tags": [],
            "needs_background": "light"
          }
        }
      ]
    },
    {
      "cell_type": "markdown",
      "metadata": {
        "id": "2TulsJzTfdas",
        "colab_type": "text"
      },
      "source": [
        "Object Oriented Method"
      ]
    },
    {
      "cell_type": "code",
      "metadata": {
        "id": "a7JuvaS4fA9e",
        "colab_type": "code",
        "colab": {
          "base_uri": "https://localhost:8080/",
          "height": 325
        },
        "outputId": "148ea8b9-cedf-4975-ea7b-3de39947f448"
      },
      "source": [
        "#Example 1\n",
        "fig = plt.figure()\n",
        "\n",
        "axes = fig.add_axes([0.1,0.1,0.8,0.8])\n",
        "\n",
        "axes.plot(x,y)\n",
        "axes.set_xlabel('X')\n",
        "axes.set_ylabel('Y')\n",
        "axes.set_title('X Y Plot')\n"
      ],
      "execution_count": 36,
      "outputs": [
        {
          "output_type": "execute_result",
          "data": {
            "text/plain": [
              "Text(0.5, 1.0, 'X Y Plot')"
            ]
          },
          "metadata": {
            "tags": []
          },
          "execution_count": 36
        },
        {
          "output_type": "display_data",
          "data": {
            "image/png": "[encoded data removed]",
            "text/plain": [
              "<Figure size 432x288 with 1 Axes>"
            ]
          },
          "metadata": {
            "tags": [],
            "needs_background": "light"
          }
        }
      ]
    },
    {
      "cell_type": "code",
      "metadata": {
        "id": "Tw-2MjLafhwQ",
        "colab_type": "code",
        "colab": {
          "base_uri": "https://localhost:8080/",
          "height": 325
        },
        "outputId": "755f802b-bf74-4527-fd12-74626b00b82d"
      },
      "source": [
        "#Example 2\n",
        "fig = plt.figure()\n",
        "\n",
        "axes1 = fig.add_axes([0.1,0.1,0.8,0.8])\n",
        "axes2 = fig.add_axes([0.2,0.5,0.4,0.3])\n",
        "\n",
        "axes1.plot(x,y)\n",
        "axes1.set_title('X vs Y Plot')\n",
        "axes1.set_xlabel('X')\n",
        "axes1.set_ylabel('Y')\n",
        "\n",
        "axes2.plot(y,x,c='r')\n",
        "axes2.set_title('Y vs X Plot')\n",
        "axes2.set_xlabel('X')\n",
        "axes2.set_ylabel('Y')"
      ],
      "execution_count": 48,
      "outputs": [
        {
          "output_type": "execute_result",
          "data": {
            "text/plain": [
              "Text(0, 0.5, 'Y')"
            ]
          },
          "metadata": {
            "tags": []
          },
          "execution_count": 48
        },
        {
          "output_type": "display_data",
          "data": {
            "image/png": "[encoded data removed]",
            "text/plain": [
              "<Figure size 432x288 with 2 Axes>"
            ]
          },
          "metadata": {
            "tags": [],
            "needs_background": "light"
          }
        }
      ]
    }
  ]
}