{
  "nbformat": 4,
  "nbformat_minor": 0,
  "metadata": {
    "colab": {
      "name": "CNN_Downsize_calculation.ipynb",
      "provenance": [],
      "authorship_tag": "ABX9TyP7GubRRumvw3SUP4XYmjMs",
      "include_colab_link": true
    },
    "kernelspec": {
      "name": "python3",
      "display_name": "Python 3"
    }
  },
  "cells": [
    {
      "cell_type": "markdown",
      "metadata": {
        "id": "view-in-github",
        "colab_type": "text"
      },
      "source": [
        "<a href=\"https://colab.research.google.com/github/euguroglu/cave/blob/master/CNN_Downsize_calculation.ipynb\" target=\"_parent\"><img src=\"https://colab.research.google.com/assets/colab-badge.svg\" alt=\"Open In Colab\"/></a>"
      ]
    },
    {
      "cell_type": "markdown",
      "metadata": {
        "id": "raSXLlpLULb6",
        "colab_type": "text"
      },
      "source": [
        "## Importing libraries"
      ]
    },
    {
      "cell_type": "code",
      "metadata": {
        "id": "oFz9Nt3CT1pr",
        "colab_type": "code",
        "colab": {}
      },
      "source": [
        "import torch\n",
        "import torch.nn as nn\n",
        "import torch.nn.functional as F\n",
        "from torch.utils.data import DataLoader\n",
        "from torchvision import datasets, transforms\n",
        "from torchvision.utils import make_grid\n",
        "\n",
        "import numpy as np\n",
        "import pandas as pd\n",
        "from sklearn.metrics import confusion_matrix\n",
        "import matplotlib.pyplot as plt"
      ],
      "execution_count": 1,
      "outputs": []
    },
    {
      "cell_type": "markdown",
      "metadata": {
        "id": "j64L457fUOBl",
        "colab_type": "text"
      },
      "source": [
        "## Loading Data"
      ]
    },
    {
      "cell_type": "code",
      "metadata": {
        "id": "evBstXQkT7Bp",
        "colab_type": "code",
        "colab": {}
      },
      "source": [
        "transform = transforms.ToTensor()\n",
        "\n",
        "train_data = datasets.FashionMNIST(root='', train=True, download=True, transform=transform)\n",
        "test_data = datasets.FashionMNIST(root='', train=False, download=True, transform=transform)\n"
      ],
      "execution_count": null,
      "outputs": []
    },
    {
      "cell_type": "code",
      "metadata": {
        "id": "n_NoSCUST_tn",
        "colab_type": "code",
        "colab": {}
      },
      "source": [
        "train_loader = DataLoader(train_data,batch_size =10,shuffle=True)\n",
        "test_loader = DataLoader(test_data,batch_size=10,shuffle=False)"
      ],
      "execution_count": 3,
      "outputs": []
    },
    {
      "cell_type": "markdown",
      "metadata": {
        "id": "va8-ecUUURMz",
        "colab_type": "text"
      },
      "source": [
        "## Convolutinoal size reduction calculation"
      ]
    },
    {
      "cell_type": "code",
      "metadata": {
        "id": "nI7mRVsmUB0H",
        "colab_type": "code",
        "colab": {
          "base_uri": "https://localhost:8080/",
          "height": 51
        },
        "outputId": "e5d84a43-bab1-4adf-987e-31862e99aafe"
      },
      "source": [
        "conv = nn.Conv2d(1, 1, 5, 1)\n",
        "for x,labels in train_loader:\n",
        "    print('Orig size:',x.shape)\n",
        "    break\n",
        "x = conv(x)\n",
        "print('Down size:',x.shape)"
      ],
      "execution_count": 4,
      "outputs": [
        {
          "output_type": "stream",
          "text": [
            "Orig size: torch.Size([10, 1, 28, 28])\n",
            "Down size: torch.Size([10, 1, 24, 24])\n"
          ],
          "name": "stdout"
        }
      ]
    },
    {
      "cell_type": "markdown",
      "metadata": {
        "id": "Jlg4ixiNUh2I",
        "colab_type": "text"
      },
      "source": [
        "## Pooling layer size reduction calculation"
      ]
    },
    {
      "cell_type": "code",
      "metadata": {
        "id": "1RiR97n3UFX2",
        "colab_type": "code",
        "colab": {
          "base_uri": "https://localhost:8080/",
          "height": 34
        },
        "outputId": "2cc6c690-39d2-4741-f9cb-79085866ee01"
      },
      "source": [
        "x = F.max_pool2d(x, 2, 2)\n",
        "print('Down size:',x.shape)"
      ],
      "execution_count": 5,
      "outputs": [
        {
          "output_type": "stream",
          "text": [
            "Down size: torch.Size([10, 1, 12, 12])\n"
          ],
          "name": "stdout"
        }
      ]
    }
  ]
}