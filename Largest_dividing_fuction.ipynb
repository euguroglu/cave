{
  "nbformat": 4,
  "nbformat_minor": 0,
  "metadata": {
    "colab": {
      "name": "Project_Euler_Problem_3.ipynb",
      "provenance": [],
      "authorship_tag": "ABX9TyOySYMN1+6937sBNHHxKaLo",
      "include_colab_link": true
    },
    "kernelspec": {
      "name": "python3",
      "display_name": "Python 3"
    }
  },
  "cells": [
    {
      "cell_type": "markdown",
      "metadata": {
        "id": "view-in-github",
        "colab_type": "text"
      },
      "source": [
        "<a href=\"https://colab.research.google.com/github/euguroglu/cave/blob/master/Largest_dividing_fuction.ipynb\" target=\"_parent\"><img src=\"https://colab.research.google.com/assets/colab-badge.svg\" alt=\"Open In Colab\"/></a>"
      ]
    },
    {
      "cell_type": "markdown",
      "metadata": {
        "id": "sezCtBZLxTCC",
        "colab_type": "text"
      },
      "source": [
        "## Largest Dividing"
      ]
    },
    {
      "cell_type": "code",
      "metadata": {
        "id": "3viMNjOuw2Tq",
        "colab_type": "code",
        "colab": {}
      },
      "source": [
        "def divide(x):\n",
        "  i=2\n",
        "  divide_max=0\n",
        "  while True:\n",
        "    if x % i == 0:\n",
        "      divide_max = x/i\n",
        "      break\n",
        "    else:\n",
        "      i=i+1\n",
        "      \n",
        "  return divide_max\n"
      ],
      "execution_count": 18,
      "outputs": []
    },
    {
      "cell_type": "code",
      "metadata": {
        "id": "ykWtyVX4x3f8",
        "colab_type": "code",
        "colab": {
          "base_uri": "https://localhost:8080/",
          "height": 34
        },
        "outputId": "ba9c4260-6d52-4068-b51e-4b72c09f9789"
      },
      "source": [
        "a=divide(13195)\n",
        "print(a)"
      ],
      "execution_count": 17,
      "outputs": [
        {
          "output_type": "stream",
          "text": [
            "2639.0\n"
          ],
          "name": "stdout"
        }
      ]
    },
    {
      "cell_type": "code",
      "metadata": {
        "id": "RZsIMNYNx5P2",
        "colab_type": "code",
        "colab": {}
      },
      "source": [
        ""
      ],
      "execution_count": null,
      "outputs": []
    }
  ]
}