{
 "cells": [
  {
   "cell_type": "markdown",
   "metadata": {},
   "source": [
    "## How to create directory with python?"
   ]
  },
  {
   "cell_type": "code",
   "execution_count": null,
   "metadata": {},
   "outputs": [],
   "source": [
    "import os\n",
    " \n",
    "def makedir(directory):\n",
    "    \"\"\"Creates a new directory if it does not exist\"\"\"\n",
    "    if not os.path.exists(directory):\n",
    "        os.makedirs(directory)\n",
    "        return None, 0\n",
    "    \n",
    "for i in range(0,10):\n",
    "    directory_name = \"./credit_card/train/\"+str(i)\n",
    "    print(directory_name)\n",
    "    makedir(directory_name) \n",
    " \n",
    "for i in range(0,10):\n",
    "    directory_name = \"./credit_card/test/\"+str(i)\n",
    "    print(directory_name)\n",
    "    makedir(directory_name)"
   ]
  }
 ],
 "metadata": {
  "kernelspec": {
   "display_name": "Python 3",
   "language": "python",
   "name": "python3"
  },
  "language_info": {
   "codemirror_mode": {
    "name": "ipython",
    "version": 3
   },
   "file_extension": ".py",
   "mimetype": "text/x-python",
   "name": "python",
   "nbconvert_exporter": "python",
   "pygments_lexer": "ipython3",
   "version": "3.7.6"
  }
 },
 "nbformat": 4,
 "nbformat_minor": 4
}
