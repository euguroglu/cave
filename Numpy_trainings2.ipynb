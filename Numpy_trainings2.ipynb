{
  "nbformat": 4,
  "nbformat_minor": 0,
  "metadata": {
    "kernelspec": {
      "display_name": "Python 3",
      "language": "python",
      "name": "python3"
    },
    "language_info": {
      "codemirror_mode": {
        "name": "ipython",
        "version": 3
      },
      "file_extension": ".py",
      "mimetype": "text/x-python",
      "name": "python",
      "nbconvert_exporter": "python",
      "pygments_lexer": "ipython3",
      "version": "3.7.6"
    },
    "colab": {
      "name": "Numpy_trainings.ipynb",
      "provenance": [],
      "include_colab_link": true
    }
  },
  "cells": [
    {
      "cell_type": "markdown",
      "metadata": {
        "id": "view-in-github",
        "colab_type": "text"
      },
      "source": [
        "<a href=\"https://colab.research.google.com/github/euguroglu/cave/blob/master/Numpy_trainings2.ipynb\" target=\"_parent\"><img src=\"https://colab.research.google.com/assets/colab-badge.svg\" alt=\"Open In Colab\"/></a>"
      ]
    },
    {
      "cell_type": "code",
      "metadata": {
        "id": "swRYEP1BwJPy",
        "colab_type": "code",
        "colab": {}
      },
      "source": [
        "data_list=[1,2,3]"
      ],
      "execution_count": 1,
      "outputs": []
    },
    {
      "cell_type": "code",
      "metadata": {
        "id": "5ZEhVlnIwJP2",
        "colab_type": "code",
        "colab": {}
      },
      "source": [
        "import numpy as np"
      ],
      "execution_count": 2,
      "outputs": []
    },
    {
      "cell_type": "code",
      "metadata": {
        "id": "yUUkrahzwJP4",
        "colab_type": "code",
        "colab": {}
      },
      "source": [
        "arr = np.array(data_list)"
      ],
      "execution_count": 3,
      "outputs": []
    },
    {
      "cell_type": "code",
      "metadata": {
        "id": "JjC2pigmwJP7",
        "colab_type": "code",
        "colab": {
          "base_uri": "https://localhost:8080/",
          "height": 34
        },
        "outputId": "bf48b0bf-d6d2-44bc-f974-9e8a0b74051f"
      },
      "source": [
        "arr"
      ],
      "execution_count": 4,
      "outputs": [
        {
          "output_type": "execute_result",
          "data": {
            "text/plain": [
              "array([1, 2, 3])"
            ]
          },
          "metadata": {
            "tags": []
          },
          "execution_count": 4
        }
      ]
    },
    {
      "cell_type": "code",
      "metadata": {
        "id": "yvBzO7wBwJP_",
        "colab_type": "code",
        "colab": {}
      },
      "source": [
        "data_list2 = ([10,20,30],[40,50,60],[70,80,90])"
      ],
      "execution_count": null,
      "outputs": []
    },
    {
      "cell_type": "code",
      "metadata": {
        "id": "rfhYS5OhwJQB",
        "colab_type": "code",
        "colab": {}
      },
      "source": [
        "arr2 = np.array(data_list2)"
      ],
      "execution_count": null,
      "outputs": []
    },
    {
      "cell_type": "code",
      "metadata": {
        "id": "qf2uMkImwJQD",
        "colab_type": "code",
        "colab": {},
        "outputId": "8589840a-2bec-4bf1-b046-c7ccec048d24"
      },
      "source": [
        "arr2"
      ],
      "execution_count": null,
      "outputs": [
        {
          "output_type": "execute_result",
          "data": {
            "text/plain": [
              "array([[10, 20, 30],\n",
              "       [40, 50, 60],\n",
              "       [70, 80, 90]])"
            ]
          },
          "metadata": {
            "tags": []
          },
          "execution_count": 8
        }
      ]
    },
    {
      "cell_type": "code",
      "metadata": {
        "id": "t3YblT8vwJQG",
        "colab_type": "code",
        "colab": {}
      },
      "source": [
        "arr3=np.array([1,2,3,4,5])"
      ],
      "execution_count": null,
      "outputs": []
    },
    {
      "cell_type": "code",
      "metadata": {
        "id": "CUoy3t8uwJQJ",
        "colab_type": "code",
        "colab": {},
        "outputId": "06a29a82-7074-425d-e686-76b5cde21466"
      },
      "source": [
        "arr3"
      ],
      "execution_count": null,
      "outputs": [
        {
          "output_type": "execute_result",
          "data": {
            "text/plain": [
              "array([1, 2, 3, 4, 5])"
            ]
          },
          "metadata": {
            "tags": []
          },
          "execution_count": 10
        }
      ]
    },
    {
      "cell_type": "code",
      "metadata": {
        "id": "eDFxc51XwJQL",
        "colab_type": "code",
        "colab": {},
        "outputId": "8a317f18-a091-4581-dd0e-e5b159347932"
      },
      "source": [
        "arr3[0]"
      ],
      "execution_count": null,
      "outputs": [
        {
          "output_type": "execute_result",
          "data": {
            "text/plain": [
              "1"
            ]
          },
          "metadata": {
            "tags": []
          },
          "execution_count": 11
        }
      ]
    },
    {
      "cell_type": "code",
      "metadata": {
        "id": "wVjmTOZFwJQN",
        "colab_type": "code",
        "colab": {},
        "outputId": "7e07e8b0-f366-441a-b64f-c679d9728604"
      },
      "source": [
        "arr2[2,3]"
      ],
      "execution_count": null,
      "outputs": [
        {
          "output_type": "error",
          "ename": "IndexError",
          "evalue": "index 3 is out of bounds for axis 1 with size 3",
          "traceback": [
            "\u001b[1;31m---------------------------------------------------------------------------\u001b[0m",
            "\u001b[1;31mIndexError\u001b[0m                                Traceback (most recent call last)",
            "\u001b[1;32m<ipython-input-12-12723358bd1e>\u001b[0m in \u001b[0;36m<module>\u001b[1;34m\u001b[0m\n\u001b[1;32m----> 1\u001b[1;33m \u001b[0marr2\u001b[0m\u001b[1;33m[\u001b[0m\u001b[1;36m2\u001b[0m\u001b[1;33m,\u001b[0m\u001b[1;36m3\u001b[0m\u001b[1;33m]\u001b[0m\u001b[1;33m\u001b[0m\u001b[1;33m\u001b[0m\u001b[0m\n\u001b[0m",
            "\u001b[1;31mIndexError\u001b[0m: index 3 is out of bounds for axis 1 with size 3"
          ]
        }
      ]
    },
    {
      "cell_type": "code",
      "metadata": {
        "id": "ClZwP8uEwJQP",
        "colab_type": "code",
        "colab": {},
        "outputId": "00176cb4-00b4-48a9-a6c2-6e0813c1a8a3"
      },
      "source": [
        "arr2"
      ],
      "execution_count": null,
      "outputs": [
        {
          "output_type": "execute_result",
          "data": {
            "text/plain": [
              "array([[10, 20, 30],\n",
              "       [40, 50, 60],\n",
              "       [70, 80, 90]])"
            ]
          },
          "metadata": {
            "tags": []
          },
          "execution_count": 13
        }
      ]
    },
    {
      "cell_type": "code",
      "metadata": {
        "id": "5tin8Tx3wJQS",
        "colab_type": "code",
        "colab": {},
        "outputId": "6ccc83cc-c162-4f5d-e0eb-b849b414855a"
      },
      "source": [
        "arr2[2,2]"
      ],
      "execution_count": null,
      "outputs": [
        {
          "output_type": "execute_result",
          "data": {
            "text/plain": [
              "90"
            ]
          },
          "metadata": {
            "tags": []
          },
          "execution_count": 14
        }
      ]
    },
    {
      "cell_type": "code",
      "metadata": {
        "id": "lMKpf9ApwJQU",
        "colab_type": "code",
        "colab": {}
      },
      "source": [
        "arr2[2,2]=24"
      ],
      "execution_count": null,
      "outputs": []
    },
    {
      "cell_type": "code",
      "metadata": {
        "id": "wLbBlf9FwJQW",
        "colab_type": "code",
        "colab": {},
        "outputId": "07b701e3-5924-441d-d07f-01a8e79923bf"
      },
      "source": [
        "arr2"
      ],
      "execution_count": null,
      "outputs": [
        {
          "output_type": "execute_result",
          "data": {
            "text/plain": [
              "array([[10, 20, 30],\n",
              "       [40, 50, 60],\n",
              "       [70, 80, 24]])"
            ]
          },
          "metadata": {
            "tags": []
          },
          "execution_count": 16
        }
      ]
    },
    {
      "cell_type": "code",
      "metadata": {
        "id": "5HaSIs2wwJQY",
        "colab_type": "code",
        "colab": {},
        "outputId": "82b764bf-3fcb-48ff-d894-ba211626d3bf"
      },
      "source": [
        "np.arange(10,20)"
      ],
      "execution_count": null,
      "outputs": [
        {
          "output_type": "execute_result",
          "data": {
            "text/plain": [
              "array([10, 11, 12, 13, 14, 15, 16, 17, 18, 19])"
            ]
          },
          "metadata": {
            "tags": []
          },
          "execution_count": 17
        }
      ]
    },
    {
      "cell_type": "code",
      "metadata": {
        "id": "-k7Kgge7wJQb",
        "colab_type": "code",
        "colab": {},
        "outputId": "089ae71f-059c-4f3b-f0ec-f85d1a405815"
      },
      "source": [
        "np.arange(0,100,3)"
      ],
      "execution_count": null,
      "outputs": [
        {
          "output_type": "execute_result",
          "data": {
            "text/plain": [
              "array([ 0,  3,  6,  9, 12, 15, 18, 21, 24, 27, 30, 33, 36, 39, 42, 45, 48,\n",
              "       51, 54, 57, 60, 63, 66, 69, 72, 75, 78, 81, 84, 87, 90, 93, 96, 99])"
            ]
          },
          "metadata": {
            "tags": []
          },
          "execution_count": 18
        }
      ]
    },
    {
      "cell_type": "code",
      "metadata": {
        "id": "o9coFZIZwJQd",
        "colab_type": "code",
        "colab": {},
        "outputId": "59aa183e-27ff-4a2a-9649-539ae46cf242"
      },
      "source": [
        "np.zeros(10)"
      ],
      "execution_count": null,
      "outputs": [
        {
          "output_type": "execute_result",
          "data": {
            "text/plain": [
              "array([0., 0., 0., 0., 0., 0., 0., 0., 0., 0.])"
            ]
          },
          "metadata": {
            "tags": []
          },
          "execution_count": 19
        }
      ]
    },
    {
      "cell_type": "code",
      "metadata": {
        "id": "AZveK4u7wJQh",
        "colab_type": "code",
        "colab": {},
        "outputId": "47ef3d80-0872-456b-c19e-b5c2ef893bb1"
      },
      "source": [
        "np.ones(10)"
      ],
      "execution_count": null,
      "outputs": [
        {
          "output_type": "execute_result",
          "data": {
            "text/plain": [
              "array([1., 1., 1., 1., 1., 1., 1., 1., 1., 1.])"
            ]
          },
          "metadata": {
            "tags": []
          },
          "execution_count": 20
        }
      ]
    },
    {
      "cell_type": "code",
      "metadata": {
        "id": "hvhTRACBwJQj",
        "colab_type": "code",
        "colab": {},
        "outputId": "73e2fdb3-60a6-42a7-f1e7-ec791ce26092"
      },
      "source": [
        "np.zeros((2,2))"
      ],
      "execution_count": null,
      "outputs": [
        {
          "output_type": "execute_result",
          "data": {
            "text/plain": [
              "array([[0., 0.],\n",
              "       [0., 0.]])"
            ]
          },
          "metadata": {
            "tags": []
          },
          "execution_count": 21
        }
      ]
    },
    {
      "cell_type": "code",
      "metadata": {
        "id": "Ygl6Z_L5wJQl",
        "colab_type": "code",
        "colab": {},
        "outputId": "59788597-365c-4b26-c2e0-f37c1caeb140"
      },
      "source": [
        "np.zeros((3,4))"
      ],
      "execution_count": null,
      "outputs": [
        {
          "output_type": "execute_result",
          "data": {
            "text/plain": [
              "array([[0., 0., 0., 0.],\n",
              "       [0., 0., 0., 0.],\n",
              "       [0., 0., 0., 0.]])"
            ]
          },
          "metadata": {
            "tags": []
          },
          "execution_count": 23
        }
      ]
    },
    {
      "cell_type": "code",
      "metadata": {
        "id": "LJjDFx8swJQn",
        "colab_type": "code",
        "colab": {},
        "outputId": "be19aeb4-2cd2-4c98-d9bc-72842f8e541b"
      },
      "source": [
        "np.ones((3,5))"
      ],
      "execution_count": null,
      "outputs": [
        {
          "output_type": "execute_result",
          "data": {
            "text/plain": [
              "array([[1., 1., 1., 1., 1.],\n",
              "       [1., 1., 1., 1., 1.],\n",
              "       [1., 1., 1., 1., 1.]])"
            ]
          },
          "metadata": {
            "tags": []
          },
          "execution_count": 24
        }
      ]
    },
    {
      "cell_type": "code",
      "metadata": {
        "id": "sLN3TCUAwJQp",
        "colab_type": "code",
        "colab": {},
        "outputId": "63a0db19-8121-4ed4-df9d-89ccf315d781"
      },
      "source": [
        "np.linspace(0,100,5)"
      ],
      "execution_count": null,
      "outputs": [
        {
          "output_type": "execute_result",
          "data": {
            "text/plain": [
              "array([  0.,  25.,  50.,  75., 100.])"
            ]
          },
          "metadata": {
            "tags": []
          },
          "execution_count": 25
        }
      ]
    },
    {
      "cell_type": "code",
      "metadata": {
        "id": "uLWJy02ewJQr",
        "colab_type": "code",
        "colab": {},
        "outputId": "807c4fef-0612-4a30-9870-41c350e8c422"
      },
      "source": [
        "np.linspace(0,1,6)"
      ],
      "execution_count": null,
      "outputs": [
        {
          "output_type": "execute_result",
          "data": {
            "text/plain": [
              "array([0. , 0.2, 0.4, 0.6, 0.8, 1. ])"
            ]
          },
          "metadata": {
            "tags": []
          },
          "execution_count": 26
        }
      ]
    },
    {
      "cell_type": "code",
      "metadata": {
        "id": "fK8GrCLbwJQu",
        "colab_type": "code",
        "colab": {},
        "outputId": "1cc87064-ce92-4f53-fe6b-1888611e6840"
      },
      "source": [
        "np.eye(6)"
      ],
      "execution_count": null,
      "outputs": [
        {
          "output_type": "execute_result",
          "data": {
            "text/plain": [
              "array([[1., 0., 0., 0., 0., 0.],\n",
              "       [0., 1., 0., 0., 0., 0.],\n",
              "       [0., 0., 1., 0., 0., 0.],\n",
              "       [0., 0., 0., 1., 0., 0.],\n",
              "       [0., 0., 0., 0., 1., 0.],\n",
              "       [0., 0., 0., 0., 0., 1.]])"
            ]
          },
          "metadata": {
            "tags": []
          },
          "execution_count": 27
        }
      ]
    },
    {
      "cell_type": "code",
      "metadata": {
        "id": "SemSsoTEwJQx",
        "colab_type": "code",
        "colab": {},
        "outputId": "6f774f7d-4451-48ee-ecf3-00ae7ea2527e"
      },
      "source": [
        "np.random.randint(0,10)"
      ],
      "execution_count": null,
      "outputs": [
        {
          "output_type": "execute_result",
          "data": {
            "text/plain": [
              "8"
            ]
          },
          "metadata": {
            "tags": []
          },
          "execution_count": 28
        }
      ]
    },
    {
      "cell_type": "code",
      "metadata": {
        "id": "-3adeXdYwJQ0",
        "colab_type": "code",
        "colab": {},
        "outputId": "c2f88355-b12e-4bac-dec2-5db5ce224aa9"
      },
      "source": [
        "np.random.randint(15)"
      ],
      "execution_count": null,
      "outputs": [
        {
          "output_type": "execute_result",
          "data": {
            "text/plain": [
              "9"
            ]
          },
          "metadata": {
            "tags": []
          },
          "execution_count": 29
        }
      ]
    },
    {
      "cell_type": "code",
      "metadata": {
        "id": "s5_Kk3uDwJQ3",
        "colab_type": "code",
        "colab": {},
        "outputId": "e0e8d7c1-8803-41ee-8d7d-b80316c9c025"
      },
      "source": [
        "np.random.randint(1,10,5)"
      ],
      "execution_count": null,
      "outputs": [
        {
          "output_type": "execute_result",
          "data": {
            "text/plain": [
              "array([2, 9, 1, 4, 9])"
            ]
          },
          "metadata": {
            "tags": []
          },
          "execution_count": 30
        }
      ]
    },
    {
      "cell_type": "code",
      "metadata": {
        "id": "3LPQFrJfwJQ5",
        "colab_type": "code",
        "colab": {},
        "outputId": "fa27ecc6-01dc-458e-9045-eef90c28f2b7"
      },
      "source": [
        "np.random.rand(5)"
      ],
      "execution_count": null,
      "outputs": [
        {
          "output_type": "execute_result",
          "data": {
            "text/plain": [
              "array([0.0804948 , 0.84704284, 0.33415214, 0.09709338, 0.63544778])"
            ]
          },
          "metadata": {
            "tags": []
          },
          "execution_count": 31
        }
      ]
    },
    {
      "cell_type": "code",
      "metadata": {
        "id": "nHcN5e-swJQ7",
        "colab_type": "code",
        "colab": {},
        "outputId": "525c70f4-d240-44e4-a250-0e7216c7ae27"
      },
      "source": [
        "np.random.randn(5)"
      ],
      "execution_count": null,
      "outputs": [
        {
          "output_type": "execute_result",
          "data": {
            "text/plain": [
              "array([-1.64095938, -0.32567327, -1.71735631, -1.32807866,  0.36821039])"
            ]
          },
          "metadata": {
            "tags": []
          },
          "execution_count": 32
        }
      ]
    },
    {
      "cell_type": "code",
      "metadata": {
        "id": "hFH2GKO6wJQ9",
        "colab_type": "code",
        "colab": {}
      },
      "source": [
        "arr= np.arange(25)"
      ],
      "execution_count": null,
      "outputs": []
    },
    {
      "cell_type": "code",
      "metadata": {
        "id": "Hal2B9nYwJRA",
        "colab_type": "code",
        "colab": {},
        "outputId": "e82556ce-5e91-46c9-f57e-ce8f1d95ac60"
      },
      "source": [
        "arr"
      ],
      "execution_count": null,
      "outputs": [
        {
          "output_type": "execute_result",
          "data": {
            "text/plain": [
              "array([ 0,  1,  2,  3,  4,  5,  6,  7,  8,  9, 10, 11, 12, 13, 14, 15, 16,\n",
              "       17, 18, 19, 20, 21, 22, 23, 24])"
            ]
          },
          "metadata": {
            "tags": []
          },
          "execution_count": 34
        }
      ]
    },
    {
      "cell_type": "code",
      "metadata": {
        "id": "x5TCUV6ywJRB",
        "colab_type": "code",
        "colab": {},
        "outputId": "1fc07989-59ef-4a24-b4db-0d048d2f124b"
      },
      "source": [
        "arr.reshape(5,5)"
      ],
      "execution_count": null,
      "outputs": [
        {
          "output_type": "execute_result",
          "data": {
            "text/plain": [
              "array([[ 0,  1,  2,  3,  4],\n",
              "       [ 5,  6,  7,  8,  9],\n",
              "       [10, 11, 12, 13, 14],\n",
              "       [15, 16, 17, 18, 19],\n",
              "       [20, 21, 22, 23, 24]])"
            ]
          },
          "metadata": {
            "tags": []
          },
          "execution_count": 35
        }
      ]
    },
    {
      "cell_type": "code",
      "metadata": {
        "id": "9JmWMLN2wJRD",
        "colab_type": "code",
        "colab": {}
      },
      "source": [
        "newArray = np.random.randint(1,100,10)"
      ],
      "execution_count": null,
      "outputs": []
    },
    {
      "cell_type": "code",
      "metadata": {
        "id": "R0ydRtUawJRF",
        "colab_type": "code",
        "colab": {},
        "outputId": "1817635b-c03e-44a2-8dde-ad701314e49e"
      },
      "source": [
        "newArray"
      ],
      "execution_count": null,
      "outputs": [
        {
          "output_type": "execute_result",
          "data": {
            "text/plain": [
              "array([34, 21, 18, 70, 86, 73, 86, 21,  8,  6])"
            ]
          },
          "metadata": {
            "tags": []
          },
          "execution_count": 37
        }
      ]
    },
    {
      "cell_type": "code",
      "metadata": {
        "id": "gKMbZFHwwJRH",
        "colab_type": "code",
        "colab": {},
        "outputId": "35e87e3d-e727-488e-c6ac-5d7e001dd347"
      },
      "source": [
        "newArray.max()"
      ],
      "execution_count": null,
      "outputs": [
        {
          "output_type": "execute_result",
          "data": {
            "text/plain": [
              "86"
            ]
          },
          "metadata": {
            "tags": []
          },
          "execution_count": 38
        }
      ]
    },
    {
      "cell_type": "code",
      "metadata": {
        "id": "WcwzSmCOwJRJ",
        "colab_type": "code",
        "colab": {},
        "outputId": "7bdcf8f5-f3f5-4418-8947-4a136e5de723"
      },
      "source": [
        "newArray.min()"
      ],
      "execution_count": null,
      "outputs": [
        {
          "output_type": "execute_result",
          "data": {
            "text/plain": [
              "6"
            ]
          },
          "metadata": {
            "tags": []
          },
          "execution_count": 39
        }
      ]
    },
    {
      "cell_type": "code",
      "metadata": {
        "id": "T3x1QORzwJRL",
        "colab_type": "code",
        "colab": {},
        "outputId": "105853a2-a2bb-49d5-ffed-8a9e7ebc92ed"
      },
      "source": [
        "newArray.sum()"
      ],
      "execution_count": null,
      "outputs": [
        {
          "output_type": "execute_result",
          "data": {
            "text/plain": [
              "423"
            ]
          },
          "metadata": {
            "tags": []
          },
          "execution_count": 40
        }
      ]
    },
    {
      "cell_type": "code",
      "metadata": {
        "id": "F1GTjAtTwJRN",
        "colab_type": "code",
        "colab": {},
        "outputId": "a9a3d016-ffa0-4345-8c71-b6ed4e2e603f"
      },
      "source": [
        "newArray.mean()"
      ],
      "execution_count": null,
      "outputs": [
        {
          "output_type": "execute_result",
          "data": {
            "text/plain": [
              "42.3"
            ]
          },
          "metadata": {
            "tags": []
          },
          "execution_count": 41
        }
      ]
    },
    {
      "cell_type": "code",
      "metadata": {
        "id": "HPRYeQrlwJRP",
        "colab_type": "code",
        "colab": {},
        "outputId": "f666ef56-0934-4e40-8cfb-226f2dc7597c"
      },
      "source": [
        "newArray.argmax()"
      ],
      "execution_count": null,
      "outputs": [
        {
          "output_type": "execute_result",
          "data": {
            "text/plain": [
              "4"
            ]
          },
          "metadata": {
            "tags": []
          },
          "execution_count": 42
        }
      ]
    },
    {
      "cell_type": "code",
      "metadata": {
        "id": "di1_N8d4wJRR",
        "colab_type": "code",
        "colab": {},
        "outputId": "c72ee254-9eca-45fc-ff16-ad0bc4ee00bd"
      },
      "source": [
        "newArray.argmin()"
      ],
      "execution_count": null,
      "outputs": [
        {
          "output_type": "execute_result",
          "data": {
            "text/plain": [
              "9"
            ]
          },
          "metadata": {
            "tags": []
          },
          "execution_count": 43
        }
      ]
    },
    {
      "cell_type": "code",
      "metadata": {
        "id": "KnvZ2bzGwJRU",
        "colab_type": "code",
        "colab": {}
      },
      "source": [
        "detArray = np.random.randint(1,100,25)"
      ],
      "execution_count": null,
      "outputs": []
    },
    {
      "cell_type": "code",
      "metadata": {
        "id": "07LCRB6zwJRW",
        "colab_type": "code",
        "colab": {}
      },
      "source": [
        "detArray = detArray.reshape(5,5)"
      ],
      "execution_count": null,
      "outputs": []
    },
    {
      "cell_type": "code",
      "metadata": {
        "id": "pedqt7EuwJRZ",
        "colab_type": "code",
        "colab": {},
        "outputId": "de37d012-7a9e-4a4e-851e-586c620ab436"
      },
      "source": [
        "detArray"
      ],
      "execution_count": null,
      "outputs": [
        {
          "output_type": "execute_result",
          "data": {
            "text/plain": [
              "array([[ 8, 10, 49, 79, 39],\n",
              "       [71, 27, 62,  7, 22],\n",
              "       [82, 73, 13, 50, 73],\n",
              "       [84, 47, 86, 98, 18],\n",
              "       [81, 43, 96, 87, 96]])"
            ]
          },
          "metadata": {
            "tags": []
          },
          "execution_count": 46
        }
      ]
    },
    {
      "cell_type": "code",
      "metadata": {
        "id": "PCzLb6T2wJRc",
        "colab_type": "code",
        "colab": {},
        "outputId": "d70e5e34-d39f-4d5f-9ee9-3dee65cb0fda"
      },
      "source": [
        "np.linalg.det(detArray)"
      ],
      "execution_count": null,
      "outputs": [
        {
          "output_type": "execute_result",
          "data": {
            "text/plain": [
              "202770115.99999943"
            ]
          },
          "metadata": {
            "tags": []
          },
          "execution_count": 47
        }
      ]
    },
    {
      "cell_type": "code",
      "metadata": {
        "id": "f_sF_OjhwJRf",
        "colab_type": "code",
        "colab": {}
      },
      "source": [
        "detarray2= np.array([[1,2],[3,5]])"
      ],
      "execution_count": null,
      "outputs": []
    },
    {
      "cell_type": "code",
      "metadata": {
        "id": "Q06Mw6v6wJRi",
        "colab_type": "code",
        "colab": {},
        "outputId": "34ad1d8c-c9fb-4a07-82bd-f3036c200a3d"
      },
      "source": [
        "detarray2"
      ],
      "execution_count": null,
      "outputs": [
        {
          "output_type": "execute_result",
          "data": {
            "text/plain": [
              "array([[1, 2],\n",
              "       [3, 5]])"
            ]
          },
          "metadata": {
            "tags": []
          },
          "execution_count": 51
        }
      ]
    },
    {
      "cell_type": "code",
      "metadata": {
        "id": "maNKsxnwwJRl",
        "colab_type": "code",
        "colab": {},
        "outputId": "e149066a-963a-44f3-aa99-7b939884b906"
      },
      "source": [
        "np.linalg.det(detarray2)"
      ],
      "execution_count": null,
      "outputs": [
        {
          "output_type": "execute_result",
          "data": {
            "text/plain": [
              "-1.0000000000000004"
            ]
          },
          "metadata": {
            "tags": []
          },
          "execution_count": 52
        }
      ]
    },
    {
      "cell_type": "code",
      "metadata": {
        "id": "ka0ZXjwswJRn",
        "colab_type": "code",
        "colab": {},
        "outputId": "d28382ed-9524-4632-95bf-85edb00a13ec"
      },
      "source": [
        "round(np.linalg.det(detarray2))"
      ],
      "execution_count": null,
      "outputs": [
        {
          "output_type": "execute_result",
          "data": {
            "text/plain": [
              "-1.0"
            ]
          },
          "metadata": {
            "tags": []
          },
          "execution_count": 53
        }
      ]
    },
    {
      "cell_type": "code",
      "metadata": {
        "id": "m0G0FfQEwJRp",
        "colab_type": "code",
        "colab": {}
      },
      "source": [
        "arr = np.arange(1,10)"
      ],
      "execution_count": null,
      "outputs": []
    },
    {
      "cell_type": "code",
      "metadata": {
        "id": "uv-8HpFOwJRr",
        "colab_type": "code",
        "colab": {},
        "outputId": "b64fd079-61ed-4b19-fcb1-666beff3a256"
      },
      "source": [
        "arr"
      ],
      "execution_count": null,
      "outputs": [
        {
          "output_type": "execute_result",
          "data": {
            "text/plain": [
              "array([1, 2, 3, 4, 5, 6, 7, 8, 9])"
            ]
          },
          "metadata": {
            "tags": []
          },
          "execution_count": 55
        }
      ]
    },
    {
      "cell_type": "code",
      "metadata": {
        "id": "sgWerzQzwJRu",
        "colab_type": "code",
        "colab": {},
        "outputId": "0ed74022-822f-4b77-c266-93d7085e1b26"
      },
      "source": [
        "arr[1]"
      ],
      "execution_count": null,
      "outputs": [
        {
          "output_type": "execute_result",
          "data": {
            "text/plain": [
              "2"
            ]
          },
          "metadata": {
            "tags": []
          },
          "execution_count": 56
        }
      ]
    },
    {
      "cell_type": "code",
      "metadata": {
        "id": "01UKU6s3wJRy",
        "colab_type": "code",
        "colab": {},
        "outputId": "68afa185-abd0-4953-9651-a7762ab426af"
      },
      "source": [
        "arr[3]"
      ],
      "execution_count": null,
      "outputs": [
        {
          "output_type": "execute_result",
          "data": {
            "text/plain": [
              "4"
            ]
          },
          "metadata": {
            "tags": []
          },
          "execution_count": 57
        }
      ]
    },
    {
      "cell_type": "code",
      "metadata": {
        "id": "6cDb1HtvwJR2",
        "colab_type": "code",
        "colab": {},
        "outputId": "14997d63-3879-4702-de0d-64095a2e3fbc"
      },
      "source": [
        "arr[1:5]"
      ],
      "execution_count": null,
      "outputs": [
        {
          "output_type": "execute_result",
          "data": {
            "text/plain": [
              "array([2, 3, 4, 5])"
            ]
          },
          "metadata": {
            "tags": []
          },
          "execution_count": 58
        }
      ]
    },
    {
      "cell_type": "code",
      "metadata": {
        "id": "I2OIBZSYwJR4",
        "colab_type": "code",
        "colab": {},
        "outputId": "42fcb68a-f7d7-450b-e27a-143c3f0e4510"
      },
      "source": [
        "arr[:4]"
      ],
      "execution_count": null,
      "outputs": [
        {
          "output_type": "execute_result",
          "data": {
            "text/plain": [
              "array([1, 2, 3, 4])"
            ]
          },
          "metadata": {
            "tags": []
          },
          "execution_count": 59
        }
      ]
    },
    {
      "cell_type": "code",
      "metadata": {
        "id": "H0i9Wjc0wJR7",
        "colab_type": "code",
        "colab": {},
        "outputId": "fb9d031c-078f-4410-c6c3-745522d4f01b"
      },
      "source": [
        "arr[::2]"
      ],
      "execution_count": null,
      "outputs": [
        {
          "output_type": "execute_result",
          "data": {
            "text/plain": [
              "array([1, 3, 5, 7, 9])"
            ]
          },
          "metadata": {
            "tags": []
          },
          "execution_count": 60
        }
      ]
    },
    {
      "cell_type": "code",
      "metadata": {
        "id": "2kBZBGPgwJR8",
        "colab_type": "code",
        "colab": {},
        "outputId": "f1c9d1e1-c93c-4b56-a6a1-175886a06e19"
      },
      "source": [
        "arr"
      ],
      "execution_count": null,
      "outputs": [
        {
          "output_type": "execute_result",
          "data": {
            "text/plain": [
              "array([1, 2, 3, 4, 5, 6, 7, 8, 9])"
            ]
          },
          "metadata": {
            "tags": []
          },
          "execution_count": 61
        }
      ]
    },
    {
      "cell_type": "code",
      "metadata": {
        "id": "tQpM3Zn8wJSB",
        "colab_type": "code",
        "colab": {},
        "outputId": "217b5505-17e1-4757-f125-31394c3f8995"
      },
      "source": [
        "arr[:3]"
      ],
      "execution_count": null,
      "outputs": [
        {
          "output_type": "execute_result",
          "data": {
            "text/plain": [
              "array([1, 2, 3])"
            ]
          },
          "metadata": {
            "tags": []
          },
          "execution_count": 62
        }
      ]
    },
    {
      "cell_type": "code",
      "metadata": {
        "id": "6Az80Z_nwJSD",
        "colab_type": "code",
        "colab": {}
      },
      "source": [
        "arr[:3]=25"
      ],
      "execution_count": null,
      "outputs": []
    },
    {
      "cell_type": "code",
      "metadata": {
        "id": "noQEL80fwJSF",
        "colab_type": "code",
        "colab": {},
        "outputId": "87f4601f-c005-40f1-8301-2ce9de924c4b"
      },
      "source": [
        "arr"
      ],
      "execution_count": null,
      "outputs": [
        {
          "output_type": "execute_result",
          "data": {
            "text/plain": [
              "array([25, 25, 25,  4,  5,  6,  7,  8,  9])"
            ]
          },
          "metadata": {
            "tags": []
          },
          "execution_count": 64
        }
      ]
    },
    {
      "cell_type": "code",
      "metadata": {
        "id": "eTdedUnewJSH",
        "colab_type": "code",
        "colab": {}
      },
      "source": [
        "arr = np.arange(1,10)"
      ],
      "execution_count": null,
      "outputs": []
    },
    {
      "cell_type": "code",
      "metadata": {
        "id": "6_jU3GHlwJSK",
        "colab_type": "code",
        "colab": {},
        "outputId": "8e9056e0-1c25-4d52-a42d-95754bd1b75b"
      },
      "source": [
        "arr"
      ],
      "execution_count": null,
      "outputs": [
        {
          "output_type": "execute_result",
          "data": {
            "text/plain": [
              "array([1, 2, 3, 4, 5, 6, 7, 8, 9])"
            ]
          },
          "metadata": {
            "tags": []
          },
          "execution_count": 66
        }
      ]
    },
    {
      "cell_type": "code",
      "metadata": {
        "id": "xRDGNhqpwJSL",
        "colab_type": "code",
        "colab": {}
      },
      "source": [
        "arr2= arr"
      ],
      "execution_count": null,
      "outputs": []
    },
    {
      "cell_type": "code",
      "metadata": {
        "id": "uNFkB01QwJSN",
        "colab_type": "code",
        "colab": {},
        "outputId": "934e8011-c419-4035-f2ae-bd4ca57b1b55"
      },
      "source": [
        "arr2"
      ],
      "execution_count": null,
      "outputs": [
        {
          "output_type": "execute_result",
          "data": {
            "text/plain": [
              "array([1, 2, 3, 4, 5, 6, 7, 8, 9])"
            ]
          },
          "metadata": {
            "tags": []
          },
          "execution_count": 68
        }
      ]
    },
    {
      "cell_type": "code",
      "metadata": {
        "id": "AGDJT8odwJSP",
        "colab_type": "code",
        "colab": {}
      },
      "source": [
        "arr2[:3]=100"
      ],
      "execution_count": null,
      "outputs": []
    },
    {
      "cell_type": "code",
      "metadata": {
        "id": "usrY-RR1wJSR",
        "colab_type": "code",
        "colab": {},
        "outputId": "96f3e0de-f3cb-4826-ed21-1d543533b543"
      },
      "source": [
        "arr2"
      ],
      "execution_count": null,
      "outputs": [
        {
          "output_type": "execute_result",
          "data": {
            "text/plain": [
              "array([100, 100, 100,   4,   5,   6,   7,   8,   9])"
            ]
          },
          "metadata": {
            "tags": []
          },
          "execution_count": 70
        }
      ]
    },
    {
      "cell_type": "code",
      "metadata": {
        "id": "apRUH7qgwJST",
        "colab_type": "code",
        "colab": {},
        "outputId": "b34de0c7-2a0f-4d8a-d040-d3fbc4a6e0da"
      },
      "source": [
        "arr"
      ],
      "execution_count": null,
      "outputs": [
        {
          "output_type": "execute_result",
          "data": {
            "text/plain": [
              "array([100, 100, 100,   4,   5,   6,   7,   8,   9])"
            ]
          },
          "metadata": {
            "tags": []
          },
          "execution_count": 71
        }
      ]
    },
    {
      "cell_type": "code",
      "metadata": {
        "id": "w23UUzhMwJSU",
        "colab_type": "code",
        "colab": {}
      },
      "source": [
        "arr = np.arange(1,10)"
      ],
      "execution_count": null,
      "outputs": []
    },
    {
      "cell_type": "code",
      "metadata": {
        "id": "51glUh38wJSV",
        "colab_type": "code",
        "colab": {}
      },
      "source": [
        "arr2= arr.copy()"
      ],
      "execution_count": null,
      "outputs": []
    },
    {
      "cell_type": "code",
      "metadata": {
        "id": "lXoJZ9WXwJSX",
        "colab_type": "code",
        "colab": {},
        "outputId": "4164d6ac-8f7c-407a-8468-93ffd8fe4a81"
      },
      "source": [
        "arr2"
      ],
      "execution_count": null,
      "outputs": [
        {
          "output_type": "execute_result",
          "data": {
            "text/plain": [
              "array([1, 2, 3, 4, 5, 6, 7, 8, 9])"
            ]
          },
          "metadata": {
            "tags": []
          },
          "execution_count": 74
        }
      ]
    },
    {
      "cell_type": "code",
      "metadata": {
        "id": "8w9VMh0vwJSb",
        "colab_type": "code",
        "colab": {}
      },
      "source": [
        "arr2[:3]=20"
      ],
      "execution_count": null,
      "outputs": []
    },
    {
      "cell_type": "code",
      "metadata": {
        "id": "r3fvENNNwJSc",
        "colab_type": "code",
        "colab": {},
        "outputId": "cd56f969-ad95-4588-b169-f7116ff5c55b"
      },
      "source": [
        "arr2"
      ],
      "execution_count": null,
      "outputs": [
        {
          "output_type": "execute_result",
          "data": {
            "text/plain": [
              "array([20, 20, 20,  4,  5,  6,  7,  8,  9])"
            ]
          },
          "metadata": {
            "tags": []
          },
          "execution_count": 76
        }
      ]
    },
    {
      "cell_type": "code",
      "metadata": {
        "id": "cZEkUJJgwJSe",
        "colab_type": "code",
        "colab": {},
        "outputId": "f4585e70-98fb-46bd-92ee-478eaaf46969"
      },
      "source": [
        "arr"
      ],
      "execution_count": null,
      "outputs": [
        {
          "output_type": "execute_result",
          "data": {
            "text/plain": [
              "array([1, 2, 3, 4, 5, 6, 7, 8, 9])"
            ]
          },
          "metadata": {
            "tags": []
          },
          "execution_count": 77
        }
      ]
    },
    {
      "cell_type": "code",
      "metadata": {
        "id": "5nce89z_wJSf",
        "colab_type": "code",
        "colab": {}
      },
      "source": [
        "newarray = np.arange(1,21)"
      ],
      "execution_count": null,
      "outputs": []
    },
    {
      "cell_type": "code",
      "metadata": {
        "id": "e1adczwmwJSh",
        "colab_type": "code",
        "colab": {}
      },
      "source": [
        "newarray = newarray.reshape(5,4)"
      ],
      "execution_count": null,
      "outputs": []
    },
    {
      "cell_type": "code",
      "metadata": {
        "id": "43oJJYZrwJSj",
        "colab_type": "code",
        "colab": {},
        "outputId": "1aedef44-ca55-4930-b18c-458c1fd5de26"
      },
      "source": [
        "newarray"
      ],
      "execution_count": null,
      "outputs": [
        {
          "output_type": "execute_result",
          "data": {
            "text/plain": [
              "array([[ 1,  2,  3,  4],\n",
              "       [ 5,  6,  7,  8],\n",
              "       [ 9, 10, 11, 12],\n",
              "       [13, 14, 15, 16],\n",
              "       [17, 18, 19, 20]])"
            ]
          },
          "metadata": {
            "tags": []
          },
          "execution_count": 80
        }
      ]
    },
    {
      "cell_type": "code",
      "metadata": {
        "id": "Ar238bZtwJSl",
        "colab_type": "code",
        "colab": {},
        "outputId": "43ba86e4-09b2-4d04-d3e7-24a01505ac27"
      },
      "source": [
        "newarray[0,0]"
      ],
      "execution_count": null,
      "outputs": [
        {
          "output_type": "execute_result",
          "data": {
            "text/plain": [
              "1"
            ]
          },
          "metadata": {
            "tags": []
          },
          "execution_count": 81
        }
      ]
    },
    {
      "cell_type": "code",
      "metadata": {
        "id": "k49LesK5wJSn",
        "colab_type": "code",
        "colab": {},
        "outputId": "6f14ca65-b9e8-4de1-94c1-3ee60b3eaf04"
      },
      "source": [
        "newarray[:,1:3]"
      ],
      "execution_count": null,
      "outputs": [
        {
          "output_type": "execute_result",
          "data": {
            "text/plain": [
              "array([[ 2,  3],\n",
              "       [ 6,  7],\n",
              "       [10, 11],\n",
              "       [14, 15],\n",
              "       [18, 19]])"
            ]
          },
          "metadata": {
            "tags": []
          },
          "execution_count": 82
        }
      ]
    },
    {
      "cell_type": "code",
      "metadata": {
        "id": "N8tuAKmgwJSq",
        "colab_type": "code",
        "colab": {},
        "outputId": "f71482f0-b138-4220-b743-0e6399454f96"
      },
      "source": [
        "newarray[:2,:2]"
      ],
      "execution_count": null,
      "outputs": [
        {
          "output_type": "execute_result",
          "data": {
            "text/plain": [
              "array([[1, 2],\n",
              "       [5, 6]])"
            ]
          },
          "metadata": {
            "tags": []
          },
          "execution_count": 83
        }
      ]
    },
    {
      "cell_type": "code",
      "metadata": {
        "id": "Gee-7xbXwJSr",
        "colab_type": "code",
        "colab": {},
        "outputId": "c44bad28-bde0-4f28-c8e2-692c8d1e8619"
      },
      "source": [
        "newarray[:2,:]"
      ],
      "execution_count": null,
      "outputs": [
        {
          "output_type": "execute_result",
          "data": {
            "text/plain": [
              "array([[1, 2, 3, 4],\n",
              "       [5, 6, 7, 8]])"
            ]
          },
          "metadata": {
            "tags": []
          },
          "execution_count": 84
        }
      ]
    },
    {
      "cell_type": "code",
      "metadata": {
        "id": "CwpKEum-wJSu",
        "colab_type": "code",
        "colab": {},
        "outputId": "2e862220-dd96-4759-d832-1f061e934c4d"
      },
      "source": [
        "newarray[:2,]"
      ],
      "execution_count": null,
      "outputs": [
        {
          "output_type": "execute_result",
          "data": {
            "text/plain": [
              "array([[1, 2, 3, 4],\n",
              "       [5, 6, 7, 8]])"
            ]
          },
          "metadata": {
            "tags": []
          },
          "execution_count": 85
        }
      ]
    },
    {
      "cell_type": "code",
      "metadata": {
        "id": "HYHuApY9wJSx",
        "colab_type": "code",
        "colab": {}
      },
      "source": [
        "arr = np.arange(1,11)"
      ],
      "execution_count": null,
      "outputs": []
    },
    {
      "cell_type": "code",
      "metadata": {
        "id": "FcVaJ0-ZwJSz",
        "colab_type": "code",
        "colab": {},
        "outputId": "499ba2dd-5c1d-428d-b2de-215e76c3071e"
      },
      "source": [
        "arr"
      ],
      "execution_count": null,
      "outputs": [
        {
          "output_type": "execute_result",
          "data": {
            "text/plain": [
              "array([ 1,  2,  3,  4,  5,  6,  7,  8,  9, 10])"
            ]
          },
          "metadata": {
            "tags": []
          },
          "execution_count": 87
        }
      ]
    },
    {
      "cell_type": "code",
      "metadata": {
        "id": "dtdbTF5JwJS2",
        "colab_type": "code",
        "colab": {},
        "outputId": "85048673-7c43-44ed-ede5-14f444bba851"
      },
      "source": [
        "arr>3"
      ],
      "execution_count": null,
      "outputs": [
        {
          "output_type": "execute_result",
          "data": {
            "text/plain": [
              "array([False, False, False,  True,  True,  True,  True,  True,  True,\n",
              "        True])"
            ]
          },
          "metadata": {
            "tags": []
          },
          "execution_count": 88
        }
      ]
    },
    {
      "cell_type": "code",
      "metadata": {
        "id": "DECG82newJS3",
        "colab_type": "code",
        "colab": {}
      },
      "source": [
        "boolenArray = arr>3"
      ],
      "execution_count": null,
      "outputs": []
    },
    {
      "cell_type": "code",
      "metadata": {
        "id": "g32BITz4wJS5",
        "colab_type": "code",
        "colab": {},
        "outputId": "f5a6e971-e1df-4de6-96b3-726ea0fdb615"
      },
      "source": [
        "arr[boolenArray]"
      ],
      "execution_count": null,
      "outputs": [
        {
          "output_type": "execute_result",
          "data": {
            "text/plain": [
              "array([ 4,  5,  6,  7,  8,  9, 10])"
            ]
          },
          "metadata": {
            "tags": []
          },
          "execution_count": 90
        }
      ]
    },
    {
      "cell_type": "code",
      "metadata": {
        "id": "-IL9HASuwJS6",
        "colab_type": "code",
        "colab": {},
        "outputId": "c1924f5c-7909-46ed-da13-6d7dd5e324f0"
      },
      "source": [
        "arr[arr<4]"
      ],
      "execution_count": null,
      "outputs": [
        {
          "output_type": "execute_result",
          "data": {
            "text/plain": [
              "array([1, 2, 3])"
            ]
          },
          "metadata": {
            "tags": []
          },
          "execution_count": 91
        }
      ]
    },
    {
      "cell_type": "code",
      "metadata": {
        "id": "B1iXY1v_wJS8",
        "colab_type": "code",
        "colab": {}
      },
      "source": [
        "arr1 = np.array([10,20,30,40,50,60])\n",
        "arr2 = np.array([2,3,4,5,6,7])"
      ],
      "execution_count": null,
      "outputs": []
    },
    {
      "cell_type": "code",
      "metadata": {
        "id": "sGatz8IIwJS9",
        "colab_type": "code",
        "colab": {},
        "outputId": "492e0545-1d2e-4bd4-ea89-5f962717f222"
      },
      "source": [
        "arr1 + arr2"
      ],
      "execution_count": null,
      "outputs": [
        {
          "output_type": "execute_result",
          "data": {
            "text/plain": [
              "array([12, 23, 34, 45, 56, 67])"
            ]
          },
          "metadata": {
            "tags": []
          },
          "execution_count": 95
        }
      ]
    },
    {
      "cell_type": "code",
      "metadata": {
        "id": "ridi6I-twJS-",
        "colab_type": "code",
        "colab": {},
        "outputId": "a2d685ef-a41a-4ba7-cbc0-15715df4f975"
      },
      "source": [
        "arr1 - arr2"
      ],
      "execution_count": null,
      "outputs": [
        {
          "output_type": "execute_result",
          "data": {
            "text/plain": [
              "array([ 8, 17, 26, 35, 44, 53])"
            ]
          },
          "metadata": {
            "tags": []
          },
          "execution_count": 96
        }
      ]
    },
    {
      "cell_type": "code",
      "metadata": {
        "id": "-fyLW4P7wJTA",
        "colab_type": "code",
        "colab": {},
        "outputId": "fa810aee-21b5-4b08-c7c6-6ebd8222a0d8"
      },
      "source": [
        "arr1 * arr2"
      ],
      "execution_count": null,
      "outputs": [
        {
          "output_type": "execute_result",
          "data": {
            "text/plain": [
              "array([ 20,  60, 120, 200, 300, 420])"
            ]
          },
          "metadata": {
            "tags": []
          },
          "execution_count": 97
        }
      ]
    },
    {
      "cell_type": "code",
      "metadata": {
        "id": "rAC2qdLUwJTB",
        "colab_type": "code",
        "colab": {},
        "outputId": "fa020963-4dd2-4b31-e703-8028475f0b39"
      },
      "source": [
        "arr1"
      ],
      "execution_count": null,
      "outputs": [
        {
          "output_type": "execute_result",
          "data": {
            "text/plain": [
              "array([10, 20, 30, 40, 50, 60])"
            ]
          },
          "metadata": {
            "tags": []
          },
          "execution_count": 98
        }
      ]
    },
    {
      "cell_type": "code",
      "metadata": {
        "id": "Wa_on4bOwJTC",
        "colab_type": "code",
        "colab": {},
        "outputId": "74075243-830f-4714-c61a-2133bc927dfc"
      },
      "source": [
        "arr1 + 10"
      ],
      "execution_count": null,
      "outputs": [
        {
          "output_type": "execute_result",
          "data": {
            "text/plain": [
              "array([20, 30, 40, 50, 60, 70])"
            ]
          },
          "metadata": {
            "tags": []
          },
          "execution_count": 99
        }
      ]
    },
    {
      "cell_type": "code",
      "metadata": {
        "id": "qkK_RdjSwJTE",
        "colab_type": "code",
        "colab": {},
        "outputId": "c2564c41-9f11-46fe-ac05-df4233ce4df7"
      },
      "source": [
        "arr2"
      ],
      "execution_count": null,
      "outputs": [
        {
          "output_type": "execute_result",
          "data": {
            "text/plain": [
              "array([2, 3, 4, 5, 6, 7])"
            ]
          },
          "metadata": {
            "tags": []
          },
          "execution_count": 100
        }
      ]
    },
    {
      "cell_type": "code",
      "metadata": {
        "id": "Yujf10iVwJTF",
        "colab_type": "code",
        "colab": {},
        "outputId": "a7801bf2-836e-4585-fc14-d044ea4badce"
      },
      "source": [
        "arr2 -2"
      ],
      "execution_count": null,
      "outputs": [
        {
          "output_type": "execute_result",
          "data": {
            "text/plain": [
              "array([0, 1, 2, 3, 4, 5])"
            ]
          },
          "metadata": {
            "tags": []
          },
          "execution_count": 101
        }
      ]
    },
    {
      "cell_type": "code",
      "metadata": {
        "id": "q_Il8dplwJTG",
        "colab_type": "code",
        "colab": {},
        "outputId": "4d3fe5f7-4870-43bf-b20c-7e7604fc0f78"
      },
      "source": [
        "arr1"
      ],
      "execution_count": null,
      "outputs": [
        {
          "output_type": "execute_result",
          "data": {
            "text/plain": [
              "array([10, 20, 30, 40, 50, 60])"
            ]
          },
          "metadata": {
            "tags": []
          },
          "execution_count": 102
        }
      ]
    },
    {
      "cell_type": "code",
      "metadata": {
        "id": "2dezqQvgwJTH",
        "colab_type": "code",
        "colab": {},
        "outputId": "ddc9528c-f9bd-4c92-cdff-d89fe9810fa7"
      },
      "source": [
        "arr1/3"
      ],
      "execution_count": null,
      "outputs": [
        {
          "output_type": "execute_result",
          "data": {
            "text/plain": [
              "array([ 3.33333333,  6.66666667, 10.        , 13.33333333, 16.66666667,\n",
              "       20.        ])"
            ]
          },
          "metadata": {
            "tags": []
          },
          "execution_count": 103
        }
      ]
    },
    {
      "cell_type": "code",
      "metadata": {
        "id": "XkAwylWYwJTI",
        "colab_type": "code",
        "colab": {},
        "outputId": "8b3a150b-cc87-483e-fec2-ced7ee8ad420"
      },
      "source": [
        "arr1"
      ],
      "execution_count": null,
      "outputs": [
        {
          "output_type": "execute_result",
          "data": {
            "text/plain": [
              "array([10, 20, 30, 40, 50, 60])"
            ]
          },
          "metadata": {
            "tags": []
          },
          "execution_count": 104
        }
      ]
    },
    {
      "cell_type": "code",
      "metadata": {
        "id": "itMhAm_YwJTL",
        "colab_type": "code",
        "colab": {},
        "outputId": "99c1ffbc-08cf-47e1-d9c4-70934ded0b39"
      },
      "source": [
        "np.sqrt(arr1)"
      ],
      "execution_count": null,
      "outputs": [
        {
          "output_type": "execute_result",
          "data": {
            "text/plain": [
              "array([3.16227766, 4.47213595, 5.47722558, 6.32455532, 7.07106781,\n",
              "       7.74596669])"
            ]
          },
          "metadata": {
            "tags": []
          },
          "execution_count": 105
        }
      ]
    },
    {
      "cell_type": "code",
      "metadata": {
        "id": "Sh1PY0dCwJTN",
        "colab_type": "code",
        "colab": {}
      },
      "source": [
        ""
      ],
      "execution_count": null,
      "outputs": []
    }
  ]
}