{
  "nbformat": 4,
  "nbformat_minor": 0,
  "metadata": {
    "colab": {
      "name": "One_hot_encoding_sklearn_Example.ipynb",
      "provenance": [],
      "authorship_tag": "ABX9TyNiBqk4TjJFPhHkAqqlnJDN",
      "include_colab_link": true
    },
    "kernelspec": {
      "name": "python3",
      "display_name": "Python 3"
    }
  },
  "cells": [
    {
      "cell_type": "markdown",
      "metadata": {
        "id": "view-in-github",
        "colab_type": "text"
      },
      "source": [
        "<a href=\"https://colab.research.google.com/github/euguroglu/cave/blob/master/One_hot_encoding_sklearn_Example.ipynb\" target=\"_parent\"><img src=\"https://colab.research.google.com/assets/colab-badge.svg\" alt=\"Open In Colab\"/></a>"
      ]
    },
    {
      "cell_type": "code",
      "metadata": {
        "id": "b3pzkV6Jv4Py",
        "colab_type": "code",
        "colab": {}
      },
      "source": [
        "from sklearn.preprocessing import OneHotEncoder\n",
        "import numpy as np"
      ],
      "execution_count": 19,
      "outputs": []
    },
    {
      "cell_type": "code",
      "metadata": {
        "id": "JSOZn2HevmPl",
        "colab_type": "code",
        "colab": {}
      },
      "source": [
        "List = ['Micheal','Tony','Sara',]"
      ],
      "execution_count": 20,
      "outputs": []
    },
    {
      "cell_type": "code",
      "metadata": {
        "id": "qN6bBpxQOmdH",
        "colab_type": "code",
        "colab": {}
      },
      "source": [
        "List = np.array(List)"
      ],
      "execution_count": 21,
      "outputs": []
    },
    {
      "cell_type": "code",
      "metadata": {
        "id": "Iozld8nCvwGY",
        "colab_type": "code",
        "colab": {
          "base_uri": "https://localhost:8080/",
          "height": 68
        },
        "outputId": "4e90fae2-c243-4754-ddeb-3c648039f8af"
      },
      "source": [
        "one_hot_enc = OneHotEncoder(sparse=False, categories='auto')\n",
        "List = List.reshape(-1, 1)\n",
        "one_hot = one_hot_enc.fit_transform(List)\n",
        "print(one_hot)"
      ],
      "execution_count": 22,
      "outputs": [
        {
          "output_type": "stream",
          "text": [
            "[[1. 0. 0.]\n",
            " [0. 0. 1.]\n",
            " [0. 1. 0.]]\n"
          ],
          "name": "stdout"
        }
      ]
    }
  ]
}