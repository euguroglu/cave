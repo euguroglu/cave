{
  "nbformat": 4,
  "nbformat_minor": 0,
  "metadata": {
    "kernelspec": {
      "display_name": "Python 3",
      "language": "python",
      "name": "python3"
    },
    "language_info": {
      "codemirror_mode": {
        "name": "ipython",
        "version": 3
      },
      "file_extension": ".py",
      "mimetype": "text/x-python",
      "name": "python",
      "nbconvert_exporter": "python",
      "pygments_lexer": "ipython3",
      "version": "3.7.3"
    },
    "colab": {
      "name": "00-Tensor-Basics.ipynb",
      "provenance": [],
      "include_colab_link": true
    }
  },
  "cells": [
    {
      "cell_type": "markdown",
      "metadata": {
        "id": "view-in-github",
        "colab_type": "text"
      },
      "source": [
        "<a href=\"https://colab.research.google.com/github/euguroglu/cave/blob/master/00_Tensor_Basics.ipynb\" target=\"_parent\"><img src=\"https://colab.research.google.com/assets/colab-badge.svg\" alt=\"Open In Colab\"/></a>"
      ]
    },
    {
      "cell_type": "markdown",
      "metadata": {
        "id": "69L_0k95Pg4V",
        "colab_type": "text"
      },
      "source": [
        "# Tensor Basics\n",
        "This section covers:\n",
        "* Converting NumPy arrays to PyTorch tensors\n",
        "* Creating tensors from scratch\n",
        "\n",
        "## Perform standard imports"
      ]
    },
    {
      "cell_type": "code",
      "metadata": {
        "id": "hSTklV-VPg4V",
        "colab_type": "code",
        "colab": {}
      },
      "source": [
        "import torch\n",
        "import numpy as np"
      ],
      "execution_count": null,
      "outputs": []
    },
    {
      "cell_type": "markdown",
      "metadata": {
        "id": "DkAVTveaPg4Z",
        "colab_type": "text"
      },
      "source": [
        "Confirm you're using PyTorch version 1.1.0"
      ]
    },
    {
      "cell_type": "code",
      "metadata": {
        "id": "2dKGMacGPg4Z",
        "colab_type": "code",
        "colab": {},
        "outputId": "152fd189-99c3-4550-b965-3ca909a7826f"
      },
      "source": [
        "torch.__version__"
      ],
      "execution_count": null,
      "outputs": [
        {
          "output_type": "execute_result",
          "data": {
            "text/plain": [
              "'1.1.0'"
            ]
          },
          "metadata": {
            "tags": []
          },
          "execution_count": 2
        }
      ]
    },
    {
      "cell_type": "markdown",
      "metadata": {
        "id": "T5nLmi6uPg4d",
        "colab_type": "text"
      },
      "source": [
        "## Converting NumPy arrays to PyTorch tensors\n",
        "A <a href='https://pytorch.org/docs/stable/tensors.html'><strong><tt>torch.Tensor</tt></strong></a> is a multi-dimensional matrix containing elements of a single data type.<br>\n",
        "Calculations between tensors can only happen if the tensors share the same dtype.<br>\n",
        "In some cases tensors are used as a replacement for NumPy to use the power of GPUs (more on this later)."
      ]
    },
    {
      "cell_type": "code",
      "metadata": {
        "id": "QLiIg5SjPg4d",
        "colab_type": "code",
        "colab": {},
        "outputId": "0e0335a2-47fe-4513-9164-7d28d8559d44"
      },
      "source": [
        "arr = np.array([1,2,3,4,5])\n",
        "print(arr)\n",
        "print(arr.dtype)\n",
        "print(type(arr))"
      ],
      "execution_count": null,
      "outputs": [
        {
          "output_type": "stream",
          "text": [
            "[1 2 3 4 5]\n",
            "int32\n",
            "<class 'numpy.ndarray'>\n"
          ],
          "name": "stdout"
        }
      ]
    },
    {
      "cell_type": "code",
      "metadata": {
        "id": "hubtSFJQPg4g",
        "colab_type": "code",
        "colab": {},
        "outputId": "57f01dcd-304e-4554-cc0e-d7c76b773567"
      },
      "source": [
        "x = torch.from_numpy(arr)\n",
        "# Equivalent to x = torch.as_tensor(arr)\n",
        "\n",
        "print(x)"
      ],
      "execution_count": null,
      "outputs": [
        {
          "output_type": "stream",
          "text": [
            "tensor([1, 2, 3, 4, 5], dtype=torch.int32)\n"
          ],
          "name": "stdout"
        }
      ]
    },
    {
      "cell_type": "code",
      "metadata": {
        "id": "OAmAk8UaPg4i",
        "colab_type": "code",
        "colab": {},
        "outputId": "f5ad34f0-02df-4ae1-cbc7-eeebc1b09951"
      },
      "source": [
        "# Print the type of data held by the tensor\n",
        "print(x.dtype)"
      ],
      "execution_count": null,
      "outputs": [
        {
          "output_type": "stream",
          "text": [
            "torch.int32\n"
          ],
          "name": "stdout"
        }
      ]
    },
    {
      "cell_type": "code",
      "metadata": {
        "id": "KYYexbdxPg4n",
        "colab_type": "code",
        "colab": {},
        "outputId": "fb421974-a90f-44ec-9a35-d173899faf70"
      },
      "source": [
        "# Print the tensor object type\n",
        "print(type(x))\n",
        "print(x.type()) # this is more specific!"
      ],
      "execution_count": null,
      "outputs": [
        {
          "output_type": "stream",
          "text": [
            "<class 'torch.Tensor'>\n",
            "torch.IntTensor\n"
          ],
          "name": "stdout"
        }
      ]
    },
    {
      "cell_type": "code",
      "metadata": {
        "id": "Mt486uUQPg4q",
        "colab_type": "code",
        "colab": {},
        "outputId": "97dd0cb4-9d5f-4f0e-d409-ac523d79a1ae"
      },
      "source": [
        "arr2 = np.arange(0.,12.).reshape(4,3)\n",
        "print(arr2)"
      ],
      "execution_count": null,
      "outputs": [
        {
          "output_type": "stream",
          "text": [
            "[[ 0.  1.  2.]\n",
            " [ 3.  4.  5.]\n",
            " [ 6.  7.  8.]\n",
            " [ 9. 10. 11.]]\n"
          ],
          "name": "stdout"
        }
      ]
    },
    {
      "cell_type": "code",
      "metadata": {
        "id": "nxew7PzWPg4s",
        "colab_type": "code",
        "colab": {},
        "outputId": "c5ed65d7-1369-4a98-c7e1-22311aef5518"
      },
      "source": [
        "x2 = torch.from_numpy(arr2)\n",
        "print(x2)\n",
        "print(x2.type())"
      ],
      "execution_count": null,
      "outputs": [
        {
          "output_type": "stream",
          "text": [
            "tensor([[ 0.,  1.,  2.],\n",
            "        [ 3.,  4.,  5.],\n",
            "        [ 6.,  7.,  8.],\n",
            "        [ 9., 10., 11.]], dtype=torch.float64)\n",
            "torch.DoubleTensor\n"
          ],
          "name": "stdout"
        }
      ]
    },
    {
      "cell_type": "markdown",
      "metadata": {
        "id": "1XfKBQr1Pg4w",
        "colab_type": "text"
      },
      "source": [
        "Here <tt>torch.DoubleTensor</tt> refers to 64-bit floating point data."
      ]
    },
    {
      "cell_type": "markdown",
      "metadata": {
        "id": "GdlCaKpwPg4w",
        "colab_type": "text"
      },
      "source": [
        "<h2><a href='https://pytorch.org/docs/stable/tensors.html'>Tensor Datatypes</a></h2>\n",
        "<table style=\"display: inline-block\">\n",
        "<tr><th>TYPE</th><th>NAME</th><th>EQUIVALENT</th><th>TENSOR TYPE</th></tr>\n",
        "<tr><td>32-bit integer (signed)</td><td>torch.int32</td><td>torch.int</td><td>IntTensor</td></tr>\n",
        "<tr><td>64-bit integer (signed)</td><td>torch.int64</td><td>torch.long</td><td>LongTensor</td></tr>\n",
        "<tr><td>16-bit integer (signed)</td><td>torch.int16</td><td>torch.short</td><td>ShortTensor</td></tr>\n",
        "<tr><td>32-bit floating point</td><td>torch.float32</td><td>torch.float</td><td>FloatTensor</td></tr>\n",
        "<tr><td>64-bit floating point</td><td>torch.float64</td><td>torch.double</td><td>DoubleTensor</td></tr>\n",
        "<tr><td>16-bit floating point</td><td>torch.float16</td><td>torch.half</td><td>HalfTensor</td></tr>\n",
        "<tr><td>8-bit integer (signed)</td><td>torch.int8</td><td></td><td>CharTensor</td></tr>\n",
        "<tr><td>8-bit integer (unsigned)</td><td>torch.uint8</td><td></td><td>ByteTensor</td></tr></table>"
      ]
    },
    {
      "cell_type": "markdown",
      "metadata": {
        "id": "BqYMK_9TPg4w",
        "colab_type": "text"
      },
      "source": [
        "## Copying vs. sharing"
      ]
    },
    {
      "cell_type": "markdown",
      "metadata": {
        "id": "VhI7cogbPg4x",
        "colab_type": "text"
      },
      "source": [
        "<a href='https://pytorch.org/docs/stable/torch.html#torch.from_numpy'><strong><tt>torch.from_numpy()</tt></strong></a><br>\n",
        "<a href='https://pytorch.org/docs/stable/torch.html#torch.as_tensor'><strong><tt>torch.as_tensor()</tt></strong></a><br>\n",
        "<a href='https://pytorch.org/docs/stable/torch.html#torch.tensor'><strong><tt>torch.tensor()</tt></strong></a><br>\n",
        "\n",
        "There are a number of different functions available for <a href='https://pytorch.org/docs/stable/torch.html#creation-ops'>creating tensors</a>. When using <a href='https://pytorch.org/docs/stable/torch.html#torch.from_numpy'><strong><tt>torch.from_numpy()</tt></strong></a> and <a href='https://pytorch.org/docs/stable/torch.html#torch.as_tensor'><strong><tt>torch.as_tensor()</tt></strong></a>, the PyTorch tensor and the source NumPy array share the same memory. This means that changes to one affect the other. However, the <a href='https://pytorch.org/docs/stable/torch.html#torch.tensor'><strong><tt>torch.tensor()</tt></strong></a> function always makes a copy."
      ]
    },
    {
      "cell_type": "code",
      "metadata": {
        "id": "CezT6hOBPg4x",
        "colab_type": "code",
        "colab": {},
        "outputId": "647183b0-3a8f-4b1c-98ca-0aa1333e32f2"
      },
      "source": [
        "# Using torch.from_numpy()\n",
        "arr = np.arange(0,5)\n",
        "t = torch.from_numpy(arr)\n",
        "print(t)"
      ],
      "execution_count": null,
      "outputs": [
        {
          "output_type": "stream",
          "text": [
            "tensor([0, 1, 2, 3, 4], dtype=torch.int32)\n"
          ],
          "name": "stdout"
        }
      ]
    },
    {
      "cell_type": "code",
      "metadata": {
        "id": "UQfejMLIPg4z",
        "colab_type": "code",
        "colab": {},
        "outputId": "b5100d36-1f40-49a2-91de-dfd3953b253a"
      },
      "source": [
        "arr[2]=77\n",
        "print(t)"
      ],
      "execution_count": null,
      "outputs": [
        {
          "output_type": "stream",
          "text": [
            "tensor([ 0,  1, 77,  3,  4], dtype=torch.int32)\n"
          ],
          "name": "stdout"
        }
      ]
    },
    {
      "cell_type": "code",
      "metadata": {
        "id": "Bd6H2oESPg42",
        "colab_type": "code",
        "colab": {},
        "outputId": "be32c17a-9851-42b9-b934-22f6017774ae"
      },
      "source": [
        "# Using torch.tensor()\n",
        "arr = np.arange(0,5)\n",
        "t = torch.tensor(arr)\n",
        "print(t)"
      ],
      "execution_count": null,
      "outputs": [
        {
          "output_type": "stream",
          "text": [
            "tensor([0, 1, 2, 3, 4], dtype=torch.int32)\n"
          ],
          "name": "stdout"
        }
      ]
    },
    {
      "cell_type": "code",
      "metadata": {
        "id": "NEJvthuvPg45",
        "colab_type": "code",
        "colab": {},
        "outputId": "83e45079-91a5-412f-bcb1-439200bfa5f8"
      },
      "source": [
        "arr[2]=77\n",
        "print(t)"
      ],
      "execution_count": null,
      "outputs": [
        {
          "output_type": "stream",
          "text": [
            "tensor([0, 1, 2, 3, 4], dtype=torch.int32)\n"
          ],
          "name": "stdout"
        }
      ]
    },
    {
      "cell_type": "markdown",
      "metadata": {
        "id": "cbi2qFFtPg48",
        "colab_type": "text"
      },
      "source": [
        "## Class constructors\n",
        "<a href='https://pytorch.org/docs/stable/tensors.html'><strong><tt>torch.Tensor()</tt></strong></a><br>\n",
        "<a href='https://pytorch.org/docs/stable/tensors.html'><strong><tt>torch.FloatTensor()</tt></strong></a><br>\n",
        "<a href='https://pytorch.org/docs/stable/tensors.html'><strong><tt>torch.LongTensor()</tt></strong></a>, etc.<br>\n",
        "\n",
        "There's a subtle difference between using the factory function <font color=black><tt>torch.tensor(data)</tt></font> and the class constructor <font color=black><tt>torch.Tensor(data)</tt></font>.<br>\n",
        "The factory function determines the dtype from the incoming data, or from a passed-in dtype argument.<br>\n",
        "The class constructor <tt>torch.Tensor()</tt>is simply an alias for <tt>torch.FloatTensor(data)</tt>. Consider the following:"
      ]
    },
    {
      "cell_type": "code",
      "metadata": {
        "id": "NJ07J5hAPg48",
        "colab_type": "code",
        "colab": {}
      },
      "source": [
        "data = np.array([1,2,3])"
      ],
      "execution_count": null,
      "outputs": []
    },
    {
      "cell_type": "code",
      "metadata": {
        "id": "gqpAfBJJPg4-",
        "colab_type": "code",
        "colab": {},
        "outputId": "02377d01-7b1e-4579-ad7b-9d6e8c66c685"
      },
      "source": [
        "a = torch.Tensor(data)  # Equivalent to cc = torch.FloatTensor(data)\n",
        "print(a, a.type())"
      ],
      "execution_count": null,
      "outputs": [
        {
          "output_type": "stream",
          "text": [
            "tensor([1., 2., 3.]) torch.FloatTensor\n"
          ],
          "name": "stdout"
        }
      ]
    },
    {
      "cell_type": "code",
      "metadata": {
        "id": "2VEWubmmPg5B",
        "colab_type": "code",
        "colab": {},
        "outputId": "5909b5e5-8f6b-4c30-f611-a4946ebc953e"
      },
      "source": [
        "b = torch.tensor(data)\n",
        "print(b, b.type())"
      ],
      "execution_count": null,
      "outputs": [
        {
          "output_type": "stream",
          "text": [
            "tensor([1, 2, 3], dtype=torch.int32) torch.IntTensor\n"
          ],
          "name": "stdout"
        }
      ]
    },
    {
      "cell_type": "code",
      "metadata": {
        "id": "ysU1_PzPPg5D",
        "colab_type": "code",
        "colab": {},
        "outputId": "3385faeb-5c49-43b7-994f-ace49470300f"
      },
      "source": [
        "c = torch.tensor(data, dtype=torch.long)\n",
        "print(c, c.type())"
      ],
      "execution_count": null,
      "outputs": [
        {
          "output_type": "stream",
          "text": [
            "tensor([1, 2, 3]) torch.LongTensor\n"
          ],
          "name": "stdout"
        }
      ]
    },
    {
      "cell_type": "markdown",
      "metadata": {
        "id": "BVfYY8VwPg5H",
        "colab_type": "text"
      },
      "source": [
        "## Creating tensors from scratch\n",
        "### Uninitialized tensors with <tt>.empty()</tt>\n",
        "<a href='https://pytorch.org/docs/stable/torch.html#torch.empty'><strong><tt>torch.empty()</tt></strong></a> returns an <em>uninitialized</em> tensor. Essentially a block of memory is allocated according to the size of the tensor, and any values already sitting in the block are returned. This is similar to the behavior of <tt>numpy.empty()</tt>."
      ]
    },
    {
      "cell_type": "code",
      "metadata": {
        "id": "_cnsoXqlPg5H",
        "colab_type": "code",
        "colab": {},
        "outputId": "771cb494-ee9b-4a3a-9ff3-0d7b2105dc3b"
      },
      "source": [
        "x = torch.empty(4, 3)\n",
        "print(x)"
      ],
      "execution_count": null,
      "outputs": [
        {
          "output_type": "stream",
          "text": [
            "tensor([[0., 0., 0.],\n",
            "        [0., 0., 0.],\n",
            "        [0., 0., 0.],\n",
            "        [0., 0., 0.]])\n"
          ],
          "name": "stdout"
        }
      ]
    },
    {
      "cell_type": "markdown",
      "metadata": {
        "id": "_Q0KYnzBPg5K",
        "colab_type": "text"
      },
      "source": [
        "### Initialized tensors with <tt>.zeros()</tt> and <tt>.ones()</tt>\n",
        "<a href='https://pytorch.org/docs/stable/torch.html#torch.zeros'><strong><tt>torch.zeros(size)</tt></strong></a><br>\n",
        "<a href='https://pytorch.org/docs/stable/torch.html#torch.ones'><strong><tt>torch.ones(size)</tt></strong></a><br>\n",
        "It's a good idea to pass in the intended dtype."
      ]
    },
    {
      "cell_type": "code",
      "metadata": {
        "id": "zDwxxK88Pg5K",
        "colab_type": "code",
        "colab": {},
        "outputId": "9af70c87-d423-4987-af19-537cce37f401"
      },
      "source": [
        "x = torch.zeros(4, 3, dtype=torch.int64)\n",
        "print(x)"
      ],
      "execution_count": null,
      "outputs": [
        {
          "output_type": "stream",
          "text": [
            "tensor([[0, 0, 0],\n",
            "        [0, 0, 0],\n",
            "        [0, 0, 0],\n",
            "        [0, 0, 0]])\n"
          ],
          "name": "stdout"
        }
      ]
    },
    {
      "cell_type": "markdown",
      "metadata": {
        "id": "rcm6ODk-Pg5M",
        "colab_type": "text"
      },
      "source": [
        "### Tensors from ranges\n",
        "<a href='https://pytorch.org/docs/stable/torch.html#torch.arange'><strong><tt>torch.arange(start,end,step)</tt></strong></a><br>\n",
        "<a href='https://pytorch.org/docs/stable/torch.html#torch.linspace'><strong><tt>torch.linspace(start,end,steps)</tt></strong></a><br>\n",
        "Note that with <tt>.arange()</tt>, <tt>end</tt> is exclusive, while with <tt>linspace()</tt>, <tt>end</tt> is inclusive."
      ]
    },
    {
      "cell_type": "code",
      "metadata": {
        "id": "zzA15YypPg5M",
        "colab_type": "code",
        "colab": {},
        "outputId": "55883f6b-643b-4307-ea94-239660027262"
      },
      "source": [
        "x = torch.arange(0,18,2).reshape(3,3)\n",
        "print(x)"
      ],
      "execution_count": null,
      "outputs": [
        {
          "output_type": "stream",
          "text": [
            "tensor([[ 0,  2,  4],\n",
            "        [ 6,  8, 10],\n",
            "        [12, 14, 16]])\n"
          ],
          "name": "stdout"
        }
      ]
    },
    {
      "cell_type": "code",
      "metadata": {
        "id": "QleP1H7uPg5O",
        "colab_type": "code",
        "colab": {},
        "outputId": "b808b287-e143-448d-b14f-b5c0c8351cc9"
      },
      "source": [
        "x = torch.linspace(0,18,12).reshape(3,4)\n",
        "print(x)"
      ],
      "execution_count": null,
      "outputs": [
        {
          "output_type": "stream",
          "text": [
            "tensor([[ 0.0000,  1.6364,  3.2727,  4.9091],\n",
            "        [ 6.5455,  8.1818,  9.8182, 11.4545],\n",
            "        [13.0909, 14.7273, 16.3636, 18.0000]])\n"
          ],
          "name": "stdout"
        }
      ]
    },
    {
      "cell_type": "markdown",
      "metadata": {
        "id": "Lg0wqDL1Pg5Q",
        "colab_type": "text"
      },
      "source": [
        "### Tensors from data\n",
        "<tt>torch.tensor()</tt> will choose the dtype based on incoming data:"
      ]
    },
    {
      "cell_type": "code",
      "metadata": {
        "id": "V0xAdAq_Pg5R",
        "colab_type": "code",
        "colab": {},
        "outputId": "ea2fc8b6-5b4f-4dd1-b5ee-df477f430936"
      },
      "source": [
        "x = torch.tensor([1, 2, 3, 4])\n",
        "print(x)\n",
        "print(x.dtype)\n",
        "print(x.type())"
      ],
      "execution_count": null,
      "outputs": [
        {
          "output_type": "stream",
          "text": [
            "tensor([1, 2, 3, 4])\n",
            "torch.int64\n",
            "torch.LongTensor\n"
          ],
          "name": "stdout"
        }
      ]
    },
    {
      "cell_type": "markdown",
      "metadata": {
        "id": "APWjtQmEPg5T",
        "colab_type": "text"
      },
      "source": [
        "Alternatively you can set the type by the tensor method used.\n",
        "For a list of tensor types visit https://pytorch.org/docs/stable/tensors.html"
      ]
    },
    {
      "cell_type": "code",
      "metadata": {
        "id": "5gqhno5zPg5T",
        "colab_type": "code",
        "colab": {},
        "outputId": "c73e86a7-731e-439b-8881-7216ed2847b8"
      },
      "source": [
        "x = torch.FloatTensor([5,6,7])\n",
        "print(x)\n",
        "print(x.dtype)\n",
        "print(x.type())"
      ],
      "execution_count": null,
      "outputs": [
        {
          "output_type": "stream",
          "text": [
            "tensor([5., 6., 7.])\n",
            "torch.float32\n",
            "torch.FloatTensor\n"
          ],
          "name": "stdout"
        }
      ]
    },
    {
      "cell_type": "markdown",
      "metadata": {
        "id": "LJPnAUPJPg5X",
        "colab_type": "text"
      },
      "source": [
        "You can also pass the dtype in as an argument. For a list of dtypes visit https://pytorch.org/docs/stable/tensor_attributes.html#torch.torch.dtype<br>"
      ]
    },
    {
      "cell_type": "code",
      "metadata": {
        "id": "Q7NKFDIfPg5X",
        "colab_type": "code",
        "colab": {},
        "outputId": "de7f0c00-c306-4e42-c136-f1131a7c9946"
      },
      "source": [
        "x = torch.tensor([8,9,-3], dtype=torch.int)\n",
        "print(x)\n",
        "print(x.dtype)\n",
        "print(x.type())"
      ],
      "execution_count": null,
      "outputs": [
        {
          "output_type": "stream",
          "text": [
            "tensor([ 8,  9, -3], dtype=torch.int32)\n",
            "torch.int32\n",
            "torch.IntTensor\n"
          ],
          "name": "stdout"
        }
      ]
    },
    {
      "cell_type": "markdown",
      "metadata": {
        "id": "6W-qRhDEPg5b",
        "colab_type": "text"
      },
      "source": [
        "### Changing the dtype of existing tensors\n",
        "Don't be tempted to use <tt>x = torch.tensor(x, dtype=torch.type)</tt> as it will raise an error about improper use of tensor cloning.<br>\n",
        "Instead, use the tensor <tt>.type()</tt> method."
      ]
    },
    {
      "cell_type": "code",
      "metadata": {
        "id": "sZ5I0G5lPg5b",
        "colab_type": "code",
        "colab": {},
        "outputId": "2c245b9c-9639-49ab-9cfc-c75cd3daac0d"
      },
      "source": [
        "print('Old:', x.type())\n",
        "\n",
        "x = x.type(torch.int64)\n",
        "\n",
        "print('New:', x.type())"
      ],
      "execution_count": null,
      "outputs": [
        {
          "output_type": "stream",
          "text": [
            "Old: torch.IntTensor\n",
            "New: torch.LongTensor\n"
          ],
          "name": "stdout"
        }
      ]
    },
    {
      "cell_type": "markdown",
      "metadata": {
        "id": "1EdTNREIPg5e",
        "colab_type": "text"
      },
      "source": [
        "### Random number tensors\n",
        "<a href='https://pytorch.org/docs/stable/torch.html#torch.rand'><strong><tt>torch.rand(size)</tt></strong></a> returns random samples from a uniform distribution over [0, 1)<br>\n",
        "<a href='https://pytorch.org/docs/stable/torch.html#torch.randn'><strong><tt>torch.randn(size)</tt></strong></a> returns samples from the \"standard normal\" distribution [σ = 1]<br>\n",
        "&nbsp;&nbsp;&nbsp;&nbsp;Unlike <tt>rand</tt> which is uniform, values closer to zero are more likely to appear.<br>\n",
        "<a href='https://pytorch.org/docs/stable/torch.html#torch.randint'><strong><tt>torch.randint(low,high,size)</tt></strong></a> returns random integers from low (inclusive) to high (exclusive)"
      ]
    },
    {
      "cell_type": "code",
      "metadata": {
        "id": "eszdZxqnPg5e",
        "colab_type": "code",
        "colab": {},
        "outputId": "5e9f1ea1-4125-4f4b-8d3e-40bda5528dff"
      },
      "source": [
        "x = torch.rand(4, 3)\n",
        "print(x)"
      ],
      "execution_count": null,
      "outputs": [
        {
          "output_type": "stream",
          "text": [
            "tensor([[0.0211, 0.2336, 0.6775],\n",
            "        [0.4790, 0.5132, 0.9878],\n",
            "        [0.7552, 0.0789, 0.1860],\n",
            "        [0.6712, 0.1564, 0.3753]])\n"
          ],
          "name": "stdout"
        }
      ]
    },
    {
      "cell_type": "code",
      "metadata": {
        "id": "_jX7vBYyPg5g",
        "colab_type": "code",
        "colab": {},
        "outputId": "7bd513bf-3185-4ecf-d724-2522ace89f75"
      },
      "source": [
        "x = torch.randn(4, 3)\n",
        "print(x)"
      ],
      "execution_count": null,
      "outputs": [
        {
          "output_type": "stream",
          "text": [
            "tensor([[ 0.7164, -0.1538, -0.9980],\n",
            "        [-1.8252,  1.1863, -0.1523],\n",
            "        [ 1.4093, -0.0212, -1.5598],\n",
            "        [ 0.1831, -0.6961,  1.3497]])\n"
          ],
          "name": "stdout"
        }
      ]
    },
    {
      "cell_type": "code",
      "metadata": {
        "id": "Zkp1cn24Pg5i",
        "colab_type": "code",
        "colab": {},
        "outputId": "8c1405a0-9e33-4f1d-8c8c-3b0f48a77667"
      },
      "source": [
        "x = torch.randint(0, 5, (4, 3))\n",
        "print(x)"
      ],
      "execution_count": null,
      "outputs": [
        {
          "output_type": "stream",
          "text": [
            "tensor([[0, 3, 0],\n",
            "        [1, 3, 4],\n",
            "        [1, 2, 3],\n",
            "        [4, 4, 3]])\n"
          ],
          "name": "stdout"
        }
      ]
    },
    {
      "cell_type": "markdown",
      "metadata": {
        "id": "hvIkH0ZNPg5k",
        "colab_type": "text"
      },
      "source": [
        "### Random number tensors that follow the input size\n",
        "<a href='https://pytorch.org/docs/stable/torch.html#torch.rand_like'><strong><tt>torch.rand_like(input)</tt></strong></a><br>\n",
        "<a href='https://pytorch.org/docs/stable/torch.html#torch.randn_like'><strong><tt>torch.randn_like(input)</tt></strong></a><br>\n",
        "<a href='https://pytorch.org/docs/stable/torch.html#torch.randint_like'><strong><tt>torch.randint_like(input,low,high)</tt></strong></a><br> these return random number tensors with the same size as <tt>input</tt>"
      ]
    },
    {
      "cell_type": "code",
      "metadata": {
        "id": "Q0Ds6Qi0Pg5l",
        "colab_type": "code",
        "colab": {},
        "outputId": "4a218cee-aad5-4e47-ef99-0b1814d640c9"
      },
      "source": [
        "x = torch.zeros(2,5)\n",
        "print(x)"
      ],
      "execution_count": null,
      "outputs": [
        {
          "output_type": "stream",
          "text": [
            "tensor([[0., 0., 0., 0., 0.],\n",
            "        [0., 0., 0., 0., 0.]])\n"
          ],
          "name": "stdout"
        }
      ]
    },
    {
      "cell_type": "code",
      "metadata": {
        "id": "XHeXbkkVPg5n",
        "colab_type": "code",
        "colab": {},
        "outputId": "b629201c-50f3-4242-c7a3-1bcd7e35b56d"
      },
      "source": [
        "x2 = torch.randn_like(x)\n",
        "print(x2)"
      ],
      "execution_count": null,
      "outputs": [
        {
          "output_type": "stream",
          "text": [
            "tensor([[-0.5442, -0.3149,  0.0922,  1.1829, -0.7873],\n",
            "        [ 0.3143,  0.9465,  0.4534,  0.4623,  2.2044]])\n"
          ],
          "name": "stdout"
        }
      ]
    },
    {
      "cell_type": "markdown",
      "metadata": {
        "id": "dXQDixn2Pg5p",
        "colab_type": "text"
      },
      "source": [
        "The same syntax can be used with<br>\n",
        "<a href='https://pytorch.org/docs/stable/torch.html#torch.zeros_like'><strong><tt>torch.zeros_like(input)</tt></strong></a><br>\n",
        "<a href='https://pytorch.org/docs/stable/torch.html#torch.ones_like'><strong><tt>torch.ones_like(input)</tt></strong></a>"
      ]
    },
    {
      "cell_type": "code",
      "metadata": {
        "id": "6JfaPjdIPg5p",
        "colab_type": "code",
        "colab": {},
        "outputId": "69f47d4c-645a-42d6-c9b9-766d14fa826a"
      },
      "source": [
        "x3 = torch.ones_like(x2)\n",
        "print(x3)"
      ],
      "execution_count": null,
      "outputs": [
        {
          "output_type": "stream",
          "text": [
            "tensor([[1., 1., 1., 1., 1.],\n",
            "        [1., 1., 1., 1., 1.]])\n"
          ],
          "name": "stdout"
        }
      ]
    },
    {
      "cell_type": "markdown",
      "metadata": {
        "id": "r6V9Ycw-Pg5r",
        "colab_type": "text"
      },
      "source": [
        "### Setting the random seed\n",
        "<a href='https://pytorch.org/docs/stable/torch.html#torch.manual_seed'><strong><tt>torch.manual_seed(int)</tt></strong></a> is used to obtain reproducible results"
      ]
    },
    {
      "cell_type": "code",
      "metadata": {
        "id": "txrt40sjPg5r",
        "colab_type": "code",
        "colab": {},
        "outputId": "239f891b-304b-4252-cfab-a6f0a4b972b6"
      },
      "source": [
        "torch.manual_seed(42)\n",
        "x = torch.rand(2, 3)\n",
        "print(x)"
      ],
      "execution_count": null,
      "outputs": [
        {
          "output_type": "stream",
          "text": [
            "tensor([[0.8823, 0.9150, 0.3829],\n",
            "        [0.9593, 0.3904, 0.6009]])\n"
          ],
          "name": "stdout"
        }
      ]
    },
    {
      "cell_type": "code",
      "metadata": {
        "id": "Zpxu3Az7Pg5t",
        "colab_type": "code",
        "colab": {},
        "outputId": "0322fd8e-57de-46d2-d439-3c0aa278591b"
      },
      "source": [
        "torch.manual_seed(42)\n",
        "x = torch.rand(2, 3)\n",
        "print(x)"
      ],
      "execution_count": null,
      "outputs": [
        {
          "output_type": "stream",
          "text": [
            "tensor([[0.8823, 0.9150, 0.3829],\n",
            "        [0.9593, 0.3904, 0.6009]])\n"
          ],
          "name": "stdout"
        }
      ]
    },
    {
      "cell_type": "markdown",
      "metadata": {
        "id": "qX-rqxniPg5v",
        "colab_type": "text"
      },
      "source": [
        "## Tensor attributes\n",
        "Besides <tt>dtype</tt>, we can look at other <a href='https://pytorch.org/docs/stable/tensor_attributes.html'>tensor attributes</a> like <tt>shape</tt>, <tt>device</tt> and <tt>layout</tt>"
      ]
    },
    {
      "cell_type": "code",
      "metadata": {
        "id": "HWIdAVd0Pg5v",
        "colab_type": "code",
        "colab": {},
        "outputId": "5e307e29-9491-4004-852d-1239692c8f46"
      },
      "source": [
        "x.shape"
      ],
      "execution_count": null,
      "outputs": [
        {
          "output_type": "execute_result",
          "data": {
            "text/plain": [
              "torch.Size([2, 3])"
            ]
          },
          "metadata": {
            "tags": []
          },
          "execution_count": 33
        }
      ]
    },
    {
      "cell_type": "code",
      "metadata": {
        "id": "pbJAPe2iPg5y",
        "colab_type": "code",
        "colab": {},
        "outputId": "90a0d794-0ac4-40f3-935d-fd8a6be25ab6"
      },
      "source": [
        "x.size()  # equivalent to x.shape"
      ],
      "execution_count": null,
      "outputs": [
        {
          "output_type": "execute_result",
          "data": {
            "text/plain": [
              "torch.Size([2, 3])"
            ]
          },
          "metadata": {
            "tags": []
          },
          "execution_count": 34
        }
      ]
    },
    {
      "cell_type": "code",
      "metadata": {
        "id": "zFGHw178Pg51",
        "colab_type": "code",
        "colab": {},
        "outputId": "87817705-ae73-4454-d067-818db91c51a9"
      },
      "source": [
        "x.device"
      ],
      "execution_count": null,
      "outputs": [
        {
          "output_type": "execute_result",
          "data": {
            "text/plain": [
              "device(type='cpu')"
            ]
          },
          "metadata": {
            "tags": []
          },
          "execution_count": 35
        }
      ]
    },
    {
      "cell_type": "markdown",
      "metadata": {
        "id": "yVf1LUCGPg53",
        "colab_type": "text"
      },
      "source": [
        "PyTorch supports use of multiple <a href='https://pytorch.org/docs/stable/tensor_attributes.html#torch-device'>devices</a>, harnessing the power of one or more GPUs in addition to the CPU. We won't explore that here, but you should know that operations between tensors can only happen for tensors installed on the same device."
      ]
    },
    {
      "cell_type": "code",
      "metadata": {
        "scrolled": true,
        "id": "nQlSalt5Pg53",
        "colab_type": "code",
        "colab": {},
        "outputId": "47dbfca0-c60b-4759-9e26-eb2e1b6e009f"
      },
      "source": [
        "x.layout"
      ],
      "execution_count": null,
      "outputs": [
        {
          "output_type": "execute_result",
          "data": {
            "text/plain": [
              "torch.strided"
            ]
          },
          "metadata": {
            "tags": []
          },
          "execution_count": 36
        }
      ]
    },
    {
      "cell_type": "markdown",
      "metadata": {
        "id": "YPBIoAZ5Pg55",
        "colab_type": "text"
      },
      "source": [
        "PyTorch has a class to hold the <a href='https://pytorch.org/docs/stable/tensor_attributes.html#torch.torch.layout'>memory layout</a> option. The default setting of <a href='https://en.wikipedia.org/wiki/Stride_of_an_array'>strided</a> will suit our purposes throughout the course."
      ]
    }
  ]
}