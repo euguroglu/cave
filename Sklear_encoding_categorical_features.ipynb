{
  "nbformat": 4,
  "nbformat_minor": 0,
  "metadata": {
    "colab": {
      "name": "Sklear_encoding_categorical_features.ipynb",
      "provenance": [],
      "authorship_tag": "ABX9TyMEfQQvDTupy1L61J3o/oO0",
      "include_colab_link": true
    },
    "kernelspec": {
      "name": "python3",
      "display_name": "Python 3"
    }
  },
  "cells": [
    {
      "cell_type": "markdown",
      "metadata": {
        "id": "view-in-github",
        "colab_type": "text"
      },
      "source": [
        "<a href=\"https://colab.research.google.com/github/euguroglu/cave/blob/master/Sklear_encoding_categorical_features.ipynb\" target=\"_parent\"><img src=\"https://colab.research.google.com/assets/colab-badge.svg\" alt=\"Open In Colab\"/></a>"
      ]
    },
    {
      "cell_type": "code",
      "metadata": {
        "id": "b3pzkV6Jv4Py",
        "colab_type": "code",
        "colab": {}
      },
      "source": [
        "from sklearn import preprocessing"
      ],
      "execution_count": 2,
      "outputs": []
    },
    {
      "cell_type": "code",
      "metadata": {
        "id": "JSOZn2HevmPl",
        "colab_type": "code",
        "colab": {}
      },
      "source": [
        "List = ['Micheal','Tony','Sara','Robert']"
      ],
      "execution_count": 1,
      "outputs": []
    },
    {
      "cell_type": "code",
      "metadata": {
        "id": "Iozld8nCvwGY",
        "colab_type": "code",
        "colab": {}
      },
      "source": [
        "Enc = preprocessing.LabelEncoder()\n",
        "List_coded = Enc.fit_transform(List)"
      ],
      "execution_count": 8,
      "outputs": []
    },
    {
      "cell_type": "code",
      "metadata": {
        "id": "s35wZIZ1wJxM",
        "colab_type": "code",
        "colab": {
          "base_uri": "https://localhost:8080/",
          "height": 85
        },
        "outputId": "773b0d82-beb2-4fa1-815f-d36108548aa0"
      },
      "source": [
        "for i,j in enumerate(Enc.classes_):\n",
        "  print(j,'\\t',i)"
      ],
      "execution_count": 11,
      "outputs": [
        {
          "output_type": "stream",
          "text": [
            "Micheal \t 0\n",
            "Robert \t 1\n",
            "Sara \t 2\n",
            "Tony \t 3\n"
          ],
          "name": "stdout"
        }
      ]
    },
    {
      "cell_type": "code",
      "metadata": {
        "id": "0N8n-4TUwcgk",
        "colab_type": "code",
        "colab": {}
      },
      "source": [
        ""
      ],
      "execution_count": null,
      "outputs": []
    }
  ]
}